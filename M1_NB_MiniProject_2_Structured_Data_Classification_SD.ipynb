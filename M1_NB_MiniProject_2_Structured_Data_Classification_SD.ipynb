{
  "cells": [
    {
      "cell_type": "markdown",
      "metadata": {
        "id": "view-in-github",
        "colab_type": "text"
      },
      "source": [
        "<a href=\"https://colab.research.google.com/github/shuvayan/Agile_Data_Code/blob/master/M1_NB_MiniProject_2_Structured_Data_Classification_SD.ipynb\" target=\"_parent\"><img src=\"https://colab.research.google.com/assets/colab-badge.svg\" alt=\"Open In Colab\"/></a>"
      ]
    },
    {
      "cell_type": "markdown",
      "metadata": {
        "id": "hTplQkOMsKhd"
      },
      "source": [
        "# Advanced Certification Programme in AI and MLOps\n",
        "## A programme by IISc and TalentSprint\n",
        "### Mini-Project Notebook: Structured Data Classification"
      ]
    },
    {
      "cell_type": "markdown",
      "metadata": {
        "id": "SZlu0P9jj_ei"
      },
      "source": [
        "## Problem Statement"
      ]
    },
    {
      "cell_type": "markdown",
      "metadata": {
        "id": "3xaJosu2kfGE"
      },
      "source": [
        "To predict whether a patient has a heart disease."
      ]
    },
    {
      "cell_type": "markdown",
      "metadata": {
        "id": "8N0iS4ipU_XM"
      },
      "source": [
        "## Learning Objectives"
      ]
    },
    {
      "cell_type": "markdown",
      "metadata": {
        "id": "K8OXq65pVDDS"
      },
      "source": [
        "At the end of the experiment, you will be able to\n",
        "\n",
        "* Understand the Cleveland Clinic Foundation Heart Disease dataset\n",
        "* Pre-process this dataset using Keras layers: IntegerLookup, StringLookup & Normalization\n",
        "* Understand and use Keras concatenate layer\n",
        "* Build a neural network model and architecture using Keras functional api\n",
        "* Predict an unseen data"
      ]
    },
    {
      "cell_type": "markdown",
      "source": [
        "## Introduction\n",
        "\n",
        "This example demonstrates how to do structured data classification, starting from a raw\n",
        "CSV file. Our data includes both numerical and categorical features. We will use Keras\n",
        "preprocessing layers to normalize the numerical features and vectorize the categorical\n",
        "ones.\n",
        "\n",
        "Note that this example should be run with TensorFlow 2.5 or higher."
      ],
      "metadata": {
        "id": "5zBPlw87J9cF"
      }
    },
    {
      "cell_type": "markdown",
      "metadata": {
        "id": "bScMHnbIaxsQ"
      },
      "source": [
        "## Dataset\n",
        "\n",
        "[Our dataset](https://archive.ics.uci.edu/ml/datasets/heart+Disease) is provided by the\n",
        "Cleveland Clinic Foundation for Heart Disease.\n",
        "It's a CSV file with 303 rows. Each row contains information about a patient (a\n",
        "**sample**), and each column describes an attribute of the patient (a **feature**). We\n",
        "use the features to predict whether a patient has a heart disease (**binary\n",
        "classification**).\n",
        "\n",
        "Here's the description of each feature:\n",
        "<br><br>\n",
        "\n",
        "Column| Description| Feature Type\n",
        "------------|--------------------|----------------------\n",
        "Age | Age in years | Numerical\n",
        "Sex | (1 = male; 0 = female) | Categorical\n",
        "CP | Chest pain type (0, 1, 2, 3, 4) | Categorical\n",
        "Trestbpd | Resting blood pressure (in mm Hg on admission) | Numerical\n",
        "Chol | Serum cholesterol in mg/dl | Numerical\n",
        "FBS | fasting blood sugar in 120 mg/dl (1 = true; 0 = false) | Categorical\n",
        "RestECG | Resting electrocardiogram results (0, 1, 2) | Categorical\n",
        "Thalach | Maximum heart rate achieved | Numerical\n",
        "Exang | Exercise induced angina (1 = yes; 0 = no) | Categorical\n",
        "Oldpeak | ST depression induced by exercise relative to rest | Numerical\n",
        "Slope | Slope of the peak exercise ST segment | Numerical\n",
        "CA | Number of major vessels (0-3) colored by fluoroscopy | Both numerical & categorical\n",
        "Thal | 3 = normal; 6 = fixed defect; 7 = reversible defect | Categorical\n",
        "Target | Diagnosis of heart disease (1 = true; 0 = false) | Target\n",
        "\n",
        "<br><br>"
      ]
    },
    {
      "cell_type": "code",
      "execution_count": 2,
      "metadata": {
        "cellView": "form",
        "id": "812a816f",
        "colab": {
          "base_uri": "https://localhost:8080/"
        },
        "outputId": "07bd6156-1675-4e68-84b3-266cb443ad58"
      },
      "outputs": [
        {
          "output_type": "stream",
          "name": "stdout",
          "text": [
            "Data Downloaded Successfuly!!\n"
          ]
        }
      ],
      "source": [
        "#@title Download the data\n",
        "!wget -qq https://cdn.iisc.talentsprint.com/AIandMLOps/Datasets/heart.csv\n",
        "print(\"Data Downloaded Successfuly!!\")"
      ]
    },
    {
      "cell_type": "markdown",
      "metadata": {
        "id": "operating-latter"
      },
      "source": [
        "## Grading = 10 Points"
      ]
    },
    {
      "cell_type": "markdown",
      "metadata": {
        "id": "1TmXyc2bRFvM"
      },
      "source": [
        "### Import Required Packages"
      ]
    },
    {
      "cell_type": "code",
      "execution_count": 3,
      "metadata": {
        "id": "MK4EbY6xaxsR"
      },
      "outputs": [],
      "source": [
        "import tensorflow as tf\n",
        "import numpy as np\n",
        "import pandas as pd\n",
        "from tensorflow import keras\n",
        "from tensorflow.keras import layers\n",
        "from tensorflow.keras.layers import IntegerLookup     # Used in Feature processing\n",
        "from tensorflow.keras.layers import Normalization     # Used in Feature processing\n",
        "from tensorflow.keras.layers import StringLookup      # Used in Feature processing"
      ]
    },
    {
      "cell_type": "code",
      "source": [
        "print(tf.__version__)"
      ],
      "metadata": {
        "colab": {
          "base_uri": "https://localhost:8080/"
        },
        "id": "igdcyEZ83COF",
        "outputId": "e393e49f-3f11-422e-b865-b73e93292089"
      },
      "execution_count": 47,
      "outputs": [
        {
          "output_type": "stream",
          "name": "stdout",
          "text": [
            "2.15.0\n"
          ]
        }
      ]
    },
    {
      "cell_type": "markdown",
      "source": [
        "# Part A"
      ],
      "metadata": {
        "id": "-tBU6ZMlW0My"
      }
    },
    {
      "cell_type": "markdown",
      "metadata": {
        "id": "zWmEGCqDaxsS"
      },
      "source": [
        "## Load the data and create batches [2 Marks]"
      ]
    },
    {
      "cell_type": "markdown",
      "source": [
        "### Load data into a Pandas dataframe\n",
        "\n",
        "Hint:: pd.read_csv"
      ],
      "metadata": {
        "id": "V7IEMgJ8jnGr"
      }
    },
    {
      "cell_type": "code",
      "execution_count": 4,
      "metadata": {
        "id": "6N7lrEsZaxsT"
      },
      "outputs": [],
      "source": [
        "file_url = \"/content/heart.csv\"\n",
        "## YOUR CODE HERE\n",
        "heart_df = pd.read_csv(file_url)"
      ]
    },
    {
      "cell_type": "code",
      "source": [
        "heart_df.info()"
      ],
      "metadata": {
        "colab": {
          "base_uri": "https://localhost:8080/"
        },
        "id": "369HJxYVza-K",
        "outputId": "4023bde4-5b2e-4001-abae-f9cb86da3a0e"
      },
      "execution_count": 7,
      "outputs": [
        {
          "output_type": "stream",
          "name": "stdout",
          "text": [
            "<class 'pandas.core.frame.DataFrame'>\n",
            "RangeIndex: 303 entries, 0 to 302\n",
            "Data columns (total 14 columns):\n",
            " #   Column    Non-Null Count  Dtype  \n",
            "---  ------    --------------  -----  \n",
            " 0   age       303 non-null    int64  \n",
            " 1   sex       303 non-null    int64  \n",
            " 2   cp        303 non-null    int64  \n",
            " 3   trestbps  303 non-null    int64  \n",
            " 4   chol      303 non-null    int64  \n",
            " 5   fbs       303 non-null    int64  \n",
            " 6   restecg   303 non-null    int64  \n",
            " 7   thalach   303 non-null    int64  \n",
            " 8   exang     303 non-null    int64  \n",
            " 9   oldpeak   303 non-null    float64\n",
            " 10  slope     303 non-null    int64  \n",
            " 11  ca        303 non-null    int64  \n",
            " 12  thal      303 non-null    object \n",
            " 13  target    303 non-null    int64  \n",
            "dtypes: float64(1), int64(12), object(1)\n",
            "memory usage: 33.3+ KB\n"
          ]
        }
      ]
    },
    {
      "cell_type": "code",
      "source": [],
      "metadata": {
        "id": "e31eGYHUpGtM"
      },
      "execution_count": null,
      "outputs": []
    },
    {
      "cell_type": "markdown",
      "metadata": {
        "id": "M-f50aCJaxsT"
      },
      "source": [
        "Check the shape of the dataset:"
      ]
    },
    {
      "cell_type": "code",
      "execution_count": 5,
      "metadata": {
        "id": "nrNUOPFVaxsT",
        "colab": {
          "base_uri": "https://localhost:8080/"
        },
        "outputId": "434d66cc-e4b9-4818-d7a6-2776a5e5d6f6"
      },
      "outputs": [
        {
          "output_type": "execute_result",
          "data": {
            "text/plain": [
              "(303, 14)"
            ]
          },
          "metadata": {},
          "execution_count": 5
        }
      ],
      "source": [
        "## YOUR CODE HERE\n",
        "heart_df.shape"
      ]
    },
    {
      "cell_type": "code",
      "source": [
        "heart_df.head()"
      ],
      "metadata": {
        "colab": {
          "base_uri": "https://localhost:8080/",
          "height": 206
        },
        "id": "CJzg1s7Lze1D",
        "outputId": "c6b01638-2229-4074-a7f1-2db508150625"
      },
      "execution_count": 6,
      "outputs": [
        {
          "output_type": "execute_result",
          "data": {
            "text/plain": [
              "   age  sex  cp  trestbps  chol  fbs  restecg  thalach  exang  oldpeak  slope  \\\n",
              "0   63    1   1       145   233    1        2      150      0      2.3      3   \n",
              "1   67    1   4       160   286    0        2      108      1      1.5      2   \n",
              "2   67    1   4       120   229    0        2      129      1      2.6      2   \n",
              "3   37    1   3       130   250    0        0      187      0      3.5      3   \n",
              "4   41    0   2       130   204    0        2      172      0      1.4      1   \n",
              "\n",
              "   ca        thal  target  \n",
              "0   0       fixed       0  \n",
              "1   3      normal       1  \n",
              "2   2  reversible       0  \n",
              "3   0      normal       0  \n",
              "4   0      normal       0  "
            ],
            "text/html": [
              "\n",
              "  <div id=\"df-25913125-8923-4c49-bc68-3ab737f9af55\" class=\"colab-df-container\">\n",
              "    <div>\n",
              "<style scoped>\n",
              "    .dataframe tbody tr th:only-of-type {\n",
              "        vertical-align: middle;\n",
              "    }\n",
              "\n",
              "    .dataframe tbody tr th {\n",
              "        vertical-align: top;\n",
              "    }\n",
              "\n",
              "    .dataframe thead th {\n",
              "        text-align: right;\n",
              "    }\n",
              "</style>\n",
              "<table border=\"1\" class=\"dataframe\">\n",
              "  <thead>\n",
              "    <tr style=\"text-align: right;\">\n",
              "      <th></th>\n",
              "      <th>age</th>\n",
              "      <th>sex</th>\n",
              "      <th>cp</th>\n",
              "      <th>trestbps</th>\n",
              "      <th>chol</th>\n",
              "      <th>fbs</th>\n",
              "      <th>restecg</th>\n",
              "      <th>thalach</th>\n",
              "      <th>exang</th>\n",
              "      <th>oldpeak</th>\n",
              "      <th>slope</th>\n",
              "      <th>ca</th>\n",
              "      <th>thal</th>\n",
              "      <th>target</th>\n",
              "    </tr>\n",
              "  </thead>\n",
              "  <tbody>\n",
              "    <tr>\n",
              "      <th>0</th>\n",
              "      <td>63</td>\n",
              "      <td>1</td>\n",
              "      <td>1</td>\n",
              "      <td>145</td>\n",
              "      <td>233</td>\n",
              "      <td>1</td>\n",
              "      <td>2</td>\n",
              "      <td>150</td>\n",
              "      <td>0</td>\n",
              "      <td>2.3</td>\n",
              "      <td>3</td>\n",
              "      <td>0</td>\n",
              "      <td>fixed</td>\n",
              "      <td>0</td>\n",
              "    </tr>\n",
              "    <tr>\n",
              "      <th>1</th>\n",
              "      <td>67</td>\n",
              "      <td>1</td>\n",
              "      <td>4</td>\n",
              "      <td>160</td>\n",
              "      <td>286</td>\n",
              "      <td>0</td>\n",
              "      <td>2</td>\n",
              "      <td>108</td>\n",
              "      <td>1</td>\n",
              "      <td>1.5</td>\n",
              "      <td>2</td>\n",
              "      <td>3</td>\n",
              "      <td>normal</td>\n",
              "      <td>1</td>\n",
              "    </tr>\n",
              "    <tr>\n",
              "      <th>2</th>\n",
              "      <td>67</td>\n",
              "      <td>1</td>\n",
              "      <td>4</td>\n",
              "      <td>120</td>\n",
              "      <td>229</td>\n",
              "      <td>0</td>\n",
              "      <td>2</td>\n",
              "      <td>129</td>\n",
              "      <td>1</td>\n",
              "      <td>2.6</td>\n",
              "      <td>2</td>\n",
              "      <td>2</td>\n",
              "      <td>reversible</td>\n",
              "      <td>0</td>\n",
              "    </tr>\n",
              "    <tr>\n",
              "      <th>3</th>\n",
              "      <td>37</td>\n",
              "      <td>1</td>\n",
              "      <td>3</td>\n",
              "      <td>130</td>\n",
              "      <td>250</td>\n",
              "      <td>0</td>\n",
              "      <td>0</td>\n",
              "      <td>187</td>\n",
              "      <td>0</td>\n",
              "      <td>3.5</td>\n",
              "      <td>3</td>\n",
              "      <td>0</td>\n",
              "      <td>normal</td>\n",
              "      <td>0</td>\n",
              "    </tr>\n",
              "    <tr>\n",
              "      <th>4</th>\n",
              "      <td>41</td>\n",
              "      <td>0</td>\n",
              "      <td>2</td>\n",
              "      <td>130</td>\n",
              "      <td>204</td>\n",
              "      <td>0</td>\n",
              "      <td>2</td>\n",
              "      <td>172</td>\n",
              "      <td>0</td>\n",
              "      <td>1.4</td>\n",
              "      <td>1</td>\n",
              "      <td>0</td>\n",
              "      <td>normal</td>\n",
              "      <td>0</td>\n",
              "    </tr>\n",
              "  </tbody>\n",
              "</table>\n",
              "</div>\n",
              "    <div class=\"colab-df-buttons\">\n",
              "\n",
              "  <div class=\"colab-df-container\">\n",
              "    <button class=\"colab-df-convert\" onclick=\"convertToInteractive('df-25913125-8923-4c49-bc68-3ab737f9af55')\"\n",
              "            title=\"Convert this dataframe to an interactive table.\"\n",
              "            style=\"display:none;\">\n",
              "\n",
              "  <svg xmlns=\"http://www.w3.org/2000/svg\" height=\"24px\" viewBox=\"0 -960 960 960\">\n",
              "    <path d=\"M120-120v-720h720v720H120Zm60-500h600v-160H180v160Zm220 220h160v-160H400v160Zm0 220h160v-160H400v160ZM180-400h160v-160H180v160Zm440 0h160v-160H620v160ZM180-180h160v-160H180v160Zm440 0h160v-160H620v160Z\"/>\n",
              "  </svg>\n",
              "    </button>\n",
              "\n",
              "  <style>\n",
              "    .colab-df-container {\n",
              "      display:flex;\n",
              "      gap: 12px;\n",
              "    }\n",
              "\n",
              "    .colab-df-convert {\n",
              "      background-color: #E8F0FE;\n",
              "      border: none;\n",
              "      border-radius: 50%;\n",
              "      cursor: pointer;\n",
              "      display: none;\n",
              "      fill: #1967D2;\n",
              "      height: 32px;\n",
              "      padding: 0 0 0 0;\n",
              "      width: 32px;\n",
              "    }\n",
              "\n",
              "    .colab-df-convert:hover {\n",
              "      background-color: #E2EBFA;\n",
              "      box-shadow: 0px 1px 2px rgba(60, 64, 67, 0.3), 0px 1px 3px 1px rgba(60, 64, 67, 0.15);\n",
              "      fill: #174EA6;\n",
              "    }\n",
              "\n",
              "    .colab-df-buttons div {\n",
              "      margin-bottom: 4px;\n",
              "    }\n",
              "\n",
              "    [theme=dark] .colab-df-convert {\n",
              "      background-color: #3B4455;\n",
              "      fill: #D2E3FC;\n",
              "    }\n",
              "\n",
              "    [theme=dark] .colab-df-convert:hover {\n",
              "      background-color: #434B5C;\n",
              "      box-shadow: 0px 1px 3px 1px rgba(0, 0, 0, 0.15);\n",
              "      filter: drop-shadow(0px 1px 2px rgba(0, 0, 0, 0.3));\n",
              "      fill: #FFFFFF;\n",
              "    }\n",
              "  </style>\n",
              "\n",
              "    <script>\n",
              "      const buttonEl =\n",
              "        document.querySelector('#df-25913125-8923-4c49-bc68-3ab737f9af55 button.colab-df-convert');\n",
              "      buttonEl.style.display =\n",
              "        google.colab.kernel.accessAllowed ? 'block' : 'none';\n",
              "\n",
              "      async function convertToInteractive(key) {\n",
              "        const element = document.querySelector('#df-25913125-8923-4c49-bc68-3ab737f9af55');\n",
              "        const dataTable =\n",
              "          await google.colab.kernel.invokeFunction('convertToInteractive',\n",
              "                                                    [key], {});\n",
              "        if (!dataTable) return;\n",
              "\n",
              "        const docLinkHtml = 'Like what you see? Visit the ' +\n",
              "          '<a target=\"_blank\" href=https://colab.research.google.com/notebooks/data_table.ipynb>data table notebook</a>'\n",
              "          + ' to learn more about interactive tables.';\n",
              "        element.innerHTML = '';\n",
              "        dataTable['output_type'] = 'display_data';\n",
              "        await google.colab.output.renderOutput(dataTable, element);\n",
              "        const docLink = document.createElement('div');\n",
              "        docLink.innerHTML = docLinkHtml;\n",
              "        element.appendChild(docLink);\n",
              "      }\n",
              "    </script>\n",
              "  </div>\n",
              "\n",
              "\n",
              "<div id=\"df-1e748903-c2c8-4b6a-8c30-60698fb4a6a0\">\n",
              "  <button class=\"colab-df-quickchart\" onclick=\"quickchart('df-1e748903-c2c8-4b6a-8c30-60698fb4a6a0')\"\n",
              "            title=\"Suggest charts\"\n",
              "            style=\"display:none;\">\n",
              "\n",
              "<svg xmlns=\"http://www.w3.org/2000/svg\" height=\"24px\"viewBox=\"0 0 24 24\"\n",
              "     width=\"24px\">\n",
              "    <g>\n",
              "        <path d=\"M19 3H5c-1.1 0-2 .9-2 2v14c0 1.1.9 2 2 2h14c1.1 0 2-.9 2-2V5c0-1.1-.9-2-2-2zM9 17H7v-7h2v7zm4 0h-2V7h2v10zm4 0h-2v-4h2v4z\"/>\n",
              "    </g>\n",
              "</svg>\n",
              "  </button>\n",
              "\n",
              "<style>\n",
              "  .colab-df-quickchart {\n",
              "      --bg-color: #E8F0FE;\n",
              "      --fill-color: #1967D2;\n",
              "      --hover-bg-color: #E2EBFA;\n",
              "      --hover-fill-color: #174EA6;\n",
              "      --disabled-fill-color: #AAA;\n",
              "      --disabled-bg-color: #DDD;\n",
              "  }\n",
              "\n",
              "  [theme=dark] .colab-df-quickchart {\n",
              "      --bg-color: #3B4455;\n",
              "      --fill-color: #D2E3FC;\n",
              "      --hover-bg-color: #434B5C;\n",
              "      --hover-fill-color: #FFFFFF;\n",
              "      --disabled-bg-color: #3B4455;\n",
              "      --disabled-fill-color: #666;\n",
              "  }\n",
              "\n",
              "  .colab-df-quickchart {\n",
              "    background-color: var(--bg-color);\n",
              "    border: none;\n",
              "    border-radius: 50%;\n",
              "    cursor: pointer;\n",
              "    display: none;\n",
              "    fill: var(--fill-color);\n",
              "    height: 32px;\n",
              "    padding: 0;\n",
              "    width: 32px;\n",
              "  }\n",
              "\n",
              "  .colab-df-quickchart:hover {\n",
              "    background-color: var(--hover-bg-color);\n",
              "    box-shadow: 0 1px 2px rgba(60, 64, 67, 0.3), 0 1px 3px 1px rgba(60, 64, 67, 0.15);\n",
              "    fill: var(--button-hover-fill-color);\n",
              "  }\n",
              "\n",
              "  .colab-df-quickchart-complete:disabled,\n",
              "  .colab-df-quickchart-complete:disabled:hover {\n",
              "    background-color: var(--disabled-bg-color);\n",
              "    fill: var(--disabled-fill-color);\n",
              "    box-shadow: none;\n",
              "  }\n",
              "\n",
              "  .colab-df-spinner {\n",
              "    border: 2px solid var(--fill-color);\n",
              "    border-color: transparent;\n",
              "    border-bottom-color: var(--fill-color);\n",
              "    animation:\n",
              "      spin 1s steps(1) infinite;\n",
              "  }\n",
              "\n",
              "  @keyframes spin {\n",
              "    0% {\n",
              "      border-color: transparent;\n",
              "      border-bottom-color: var(--fill-color);\n",
              "      border-left-color: var(--fill-color);\n",
              "    }\n",
              "    20% {\n",
              "      border-color: transparent;\n",
              "      border-left-color: var(--fill-color);\n",
              "      border-top-color: var(--fill-color);\n",
              "    }\n",
              "    30% {\n",
              "      border-color: transparent;\n",
              "      border-left-color: var(--fill-color);\n",
              "      border-top-color: var(--fill-color);\n",
              "      border-right-color: var(--fill-color);\n",
              "    }\n",
              "    40% {\n",
              "      border-color: transparent;\n",
              "      border-right-color: var(--fill-color);\n",
              "      border-top-color: var(--fill-color);\n",
              "    }\n",
              "    60% {\n",
              "      border-color: transparent;\n",
              "      border-right-color: var(--fill-color);\n",
              "    }\n",
              "    80% {\n",
              "      border-color: transparent;\n",
              "      border-right-color: var(--fill-color);\n",
              "      border-bottom-color: var(--fill-color);\n",
              "    }\n",
              "    90% {\n",
              "      border-color: transparent;\n",
              "      border-bottom-color: var(--fill-color);\n",
              "    }\n",
              "  }\n",
              "</style>\n",
              "\n",
              "  <script>\n",
              "    async function quickchart(key) {\n",
              "      const quickchartButtonEl =\n",
              "        document.querySelector('#' + key + ' button');\n",
              "      quickchartButtonEl.disabled = true;  // To prevent multiple clicks.\n",
              "      quickchartButtonEl.classList.add('colab-df-spinner');\n",
              "      try {\n",
              "        const charts = await google.colab.kernel.invokeFunction(\n",
              "            'suggestCharts', [key], {});\n",
              "      } catch (error) {\n",
              "        console.error('Error during call to suggestCharts:', error);\n",
              "      }\n",
              "      quickchartButtonEl.classList.remove('colab-df-spinner');\n",
              "      quickchartButtonEl.classList.add('colab-df-quickchart-complete');\n",
              "    }\n",
              "    (() => {\n",
              "      let quickchartButtonEl =\n",
              "        document.querySelector('#df-1e748903-c2c8-4b6a-8c30-60698fb4a6a0 button');\n",
              "      quickchartButtonEl.style.display =\n",
              "        google.colab.kernel.accessAllowed ? 'block' : 'none';\n",
              "    })();\n",
              "  </script>\n",
              "</div>\n",
              "\n",
              "    </div>\n",
              "  </div>\n"
            ],
            "application/vnd.google.colaboratory.intrinsic+json": {
              "type": "dataframe",
              "variable_name": "heart_df",
              "summary": "{\n  \"name\": \"heart_df\",\n  \"rows\": 303,\n  \"fields\": [\n    {\n      \"column\": \"age\",\n      \"properties\": {\n        \"dtype\": \"number\",\n        \"std\": 9,\n        \"min\": 29,\n        \"max\": 77,\n        \"num_unique_values\": 41,\n        \"samples\": [\n          61,\n          64,\n          44\n        ],\n        \"semantic_type\": \"\",\n        \"description\": \"\"\n      }\n    },\n    {\n      \"column\": \"sex\",\n      \"properties\": {\n        \"dtype\": \"number\",\n        \"std\": 0,\n        \"min\": 0,\n        \"max\": 1,\n        \"num_unique_values\": 2,\n        \"samples\": [\n          0,\n          1\n        ],\n        \"semantic_type\": \"\",\n        \"description\": \"\"\n      }\n    },\n    {\n      \"column\": \"cp\",\n      \"properties\": {\n        \"dtype\": \"number\",\n        \"std\": 1,\n        \"min\": 0,\n        \"max\": 4,\n        \"num_unique_values\": 5,\n        \"samples\": [\n          4,\n          0\n        ],\n        \"semantic_type\": \"\",\n        \"description\": \"\"\n      }\n    },\n    {\n      \"column\": \"trestbps\",\n      \"properties\": {\n        \"dtype\": \"number\",\n        \"std\": 17,\n        \"min\": 94,\n        \"max\": 200,\n        \"num_unique_values\": 50,\n        \"samples\": [\n          104,\n          192\n        ],\n        \"semantic_type\": \"\",\n        \"description\": \"\"\n      }\n    },\n    {\n      \"column\": \"chol\",\n      \"properties\": {\n        \"dtype\": \"number\",\n        \"std\": 52,\n        \"min\": 126,\n        \"max\": 564,\n        \"num_unique_values\": 152,\n        \"samples\": [\n          261,\n          182\n        ],\n        \"semantic_type\": \"\",\n        \"description\": \"\"\n      }\n    },\n    {\n      \"column\": \"fbs\",\n      \"properties\": {\n        \"dtype\": \"number\",\n        \"std\": 0,\n        \"min\": 0,\n        \"max\": 1,\n        \"num_unique_values\": 2,\n        \"samples\": [\n          0,\n          1\n        ],\n        \"semantic_type\": \"\",\n        \"description\": \"\"\n      }\n    },\n    {\n      \"column\": \"restecg\",\n      \"properties\": {\n        \"dtype\": \"number\",\n        \"std\": 0,\n        \"min\": 0,\n        \"max\": 2,\n        \"num_unique_values\": 3,\n        \"samples\": [\n          2,\n          0\n        ],\n        \"semantic_type\": \"\",\n        \"description\": \"\"\n      }\n    },\n    {\n      \"column\": \"thalach\",\n      \"properties\": {\n        \"dtype\": \"number\",\n        \"std\": 23,\n        \"min\": 71,\n        \"max\": 202,\n        \"num_unique_values\": 91,\n        \"samples\": [\n          175,\n          114\n        ],\n        \"semantic_type\": \"\",\n        \"description\": \"\"\n      }\n    },\n    {\n      \"column\": \"exang\",\n      \"properties\": {\n        \"dtype\": \"number\",\n        \"std\": 0,\n        \"min\": 0,\n        \"max\": 1,\n        \"num_unique_values\": 2,\n        \"samples\": [\n          1,\n          0\n        ],\n        \"semantic_type\": \"\",\n        \"description\": \"\"\n      }\n    },\n    {\n      \"column\": \"oldpeak\",\n      \"properties\": {\n        \"dtype\": \"number\",\n        \"std\": 1.1650246194814895,\n        \"min\": 0.0,\n        \"max\": 6.2,\n        \"num_unique_values\": 40,\n        \"samples\": [\n          2.4,\n          0.2\n        ],\n        \"semantic_type\": \"\",\n        \"description\": \"\"\n      }\n    },\n    {\n      \"column\": \"slope\",\n      \"properties\": {\n        \"dtype\": \"number\",\n        \"std\": 0,\n        \"min\": 1,\n        \"max\": 3,\n        \"num_unique_values\": 3,\n        \"samples\": [\n          3,\n          2\n        ],\n        \"semantic_type\": \"\",\n        \"description\": \"\"\n      }\n    },\n    {\n      \"column\": \"ca\",\n      \"properties\": {\n        \"dtype\": \"number\",\n        \"std\": 0,\n        \"min\": 0,\n        \"max\": 3,\n        \"num_unique_values\": 4,\n        \"samples\": [\n          3,\n          1\n        ],\n        \"semantic_type\": \"\",\n        \"description\": \"\"\n      }\n    },\n    {\n      \"column\": \"thal\",\n      \"properties\": {\n        \"dtype\": \"category\",\n        \"num_unique_values\": 5,\n        \"samples\": [\n          \"normal\",\n          \"2\"\n        ],\n        \"semantic_type\": \"\",\n        \"description\": \"\"\n      }\n    },\n    {\n      \"column\": \"target\",\n      \"properties\": {\n        \"dtype\": \"number\",\n        \"std\": 0,\n        \"min\": 0,\n        \"max\": 1,\n        \"num_unique_values\": 2,\n        \"samples\": [\n          1,\n          0\n        ],\n        \"semantic_type\": \"\",\n        \"description\": \"\"\n      }\n    }\n  ]\n}"
            }
          },
          "metadata": {},
          "execution_count": 6
        }
      ]
    },
    {
      "cell_type": "code",
      "source": [],
      "metadata": {
        "colab": {
          "base_uri": "https://localhost:8080/",
          "height": 141
        },
        "id": "rblHYJqhzk0z",
        "outputId": "e0e73c71-db34-420d-cfba-1ac181a11f96"
      },
      "execution_count": 1,
      "outputs": [
        {
          "output_type": "error",
          "ename": "NameError",
          "evalue": "name 'heart_df' is not defined",
          "traceback": [
            "\u001b[0;31m---------------------------------------------------------------------------\u001b[0m",
            "\u001b[0;31mNameError\u001b[0m                                 Traceback (most recent call last)",
            "\u001b[0;32m<ipython-input-1-e78871e45895>\u001b[0m in \u001b[0;36m<cell line: 1>\u001b[0;34m()\u001b[0m\n\u001b[0;32m----> 1\u001b[0;31m \u001b[0mheart_df\u001b[0m\u001b[0;34m.\u001b[0m\u001b[0minfo\u001b[0m\u001b[0;34m\u001b[0m\u001b[0;34m\u001b[0m\u001b[0m\n\u001b[0m",
            "\u001b[0;31mNameError\u001b[0m: name 'heart_df' is not defined"
          ]
        }
      ]
    },
    {
      "cell_type": "code",
      "source": [],
      "metadata": {
        "id": "NyN_YAJQoys9"
      },
      "execution_count": null,
      "outputs": []
    },
    {
      "cell_type": "markdown",
      "metadata": {
        "id": "ptTMb_dsaxsU"
      },
      "source": [
        "Check the preview of a few samples:\n",
        "\n",
        "Hint:: head()"
      ]
    },
    {
      "cell_type": "code",
      "execution_count": 9,
      "metadata": {
        "id": "zHjlz0HhaxsU",
        "colab": {
          "base_uri": "https://localhost:8080/",
          "height": 206
        },
        "outputId": "36b60e0b-f76c-488b-a102-7b4bda38cdf0"
      },
      "outputs": [
        {
          "output_type": "execute_result",
          "data": {
            "text/plain": [
              "   age  sex  cp  trestbps  chol  fbs  restecg  thalach  exang  oldpeak  slope  \\\n",
              "0   63    1   1       145   233    1        2      150      0      2.3      3   \n",
              "1   67    1   4       160   286    0        2      108      1      1.5      2   \n",
              "2   67    1   4       120   229    0        2      129      1      2.6      2   \n",
              "3   37    1   3       130   250    0        0      187      0      3.5      3   \n",
              "4   41    0   2       130   204    0        2      172      0      1.4      1   \n",
              "\n",
              "   ca        thal  target  \n",
              "0   0       fixed       0  \n",
              "1   3      normal       1  \n",
              "2   2  reversible       0  \n",
              "3   0      normal       0  \n",
              "4   0      normal       0  "
            ],
            "text/html": [
              "\n",
              "  <div id=\"df-40010100-fba5-48d3-bdc3-ee07d0ceac4a\" class=\"colab-df-container\">\n",
              "    <div>\n",
              "<style scoped>\n",
              "    .dataframe tbody tr th:only-of-type {\n",
              "        vertical-align: middle;\n",
              "    }\n",
              "\n",
              "    .dataframe tbody tr th {\n",
              "        vertical-align: top;\n",
              "    }\n",
              "\n",
              "    .dataframe thead th {\n",
              "        text-align: right;\n",
              "    }\n",
              "</style>\n",
              "<table border=\"1\" class=\"dataframe\">\n",
              "  <thead>\n",
              "    <tr style=\"text-align: right;\">\n",
              "      <th></th>\n",
              "      <th>age</th>\n",
              "      <th>sex</th>\n",
              "      <th>cp</th>\n",
              "      <th>trestbps</th>\n",
              "      <th>chol</th>\n",
              "      <th>fbs</th>\n",
              "      <th>restecg</th>\n",
              "      <th>thalach</th>\n",
              "      <th>exang</th>\n",
              "      <th>oldpeak</th>\n",
              "      <th>slope</th>\n",
              "      <th>ca</th>\n",
              "      <th>thal</th>\n",
              "      <th>target</th>\n",
              "    </tr>\n",
              "  </thead>\n",
              "  <tbody>\n",
              "    <tr>\n",
              "      <th>0</th>\n",
              "      <td>63</td>\n",
              "      <td>1</td>\n",
              "      <td>1</td>\n",
              "      <td>145</td>\n",
              "      <td>233</td>\n",
              "      <td>1</td>\n",
              "      <td>2</td>\n",
              "      <td>150</td>\n",
              "      <td>0</td>\n",
              "      <td>2.3</td>\n",
              "      <td>3</td>\n",
              "      <td>0</td>\n",
              "      <td>fixed</td>\n",
              "      <td>0</td>\n",
              "    </tr>\n",
              "    <tr>\n",
              "      <th>1</th>\n",
              "      <td>67</td>\n",
              "      <td>1</td>\n",
              "      <td>4</td>\n",
              "      <td>160</td>\n",
              "      <td>286</td>\n",
              "      <td>0</td>\n",
              "      <td>2</td>\n",
              "      <td>108</td>\n",
              "      <td>1</td>\n",
              "      <td>1.5</td>\n",
              "      <td>2</td>\n",
              "      <td>3</td>\n",
              "      <td>normal</td>\n",
              "      <td>1</td>\n",
              "    </tr>\n",
              "    <tr>\n",
              "      <th>2</th>\n",
              "      <td>67</td>\n",
              "      <td>1</td>\n",
              "      <td>4</td>\n",
              "      <td>120</td>\n",
              "      <td>229</td>\n",
              "      <td>0</td>\n",
              "      <td>2</td>\n",
              "      <td>129</td>\n",
              "      <td>1</td>\n",
              "      <td>2.6</td>\n",
              "      <td>2</td>\n",
              "      <td>2</td>\n",
              "      <td>reversible</td>\n",
              "      <td>0</td>\n",
              "    </tr>\n",
              "    <tr>\n",
              "      <th>3</th>\n",
              "      <td>37</td>\n",
              "      <td>1</td>\n",
              "      <td>3</td>\n",
              "      <td>130</td>\n",
              "      <td>250</td>\n",
              "      <td>0</td>\n",
              "      <td>0</td>\n",
              "      <td>187</td>\n",
              "      <td>0</td>\n",
              "      <td>3.5</td>\n",
              "      <td>3</td>\n",
              "      <td>0</td>\n",
              "      <td>normal</td>\n",
              "      <td>0</td>\n",
              "    </tr>\n",
              "    <tr>\n",
              "      <th>4</th>\n",
              "      <td>41</td>\n",
              "      <td>0</td>\n",
              "      <td>2</td>\n",
              "      <td>130</td>\n",
              "      <td>204</td>\n",
              "      <td>0</td>\n",
              "      <td>2</td>\n",
              "      <td>172</td>\n",
              "      <td>0</td>\n",
              "      <td>1.4</td>\n",
              "      <td>1</td>\n",
              "      <td>0</td>\n",
              "      <td>normal</td>\n",
              "      <td>0</td>\n",
              "    </tr>\n",
              "  </tbody>\n",
              "</table>\n",
              "</div>\n",
              "    <div class=\"colab-df-buttons\">\n",
              "\n",
              "  <div class=\"colab-df-container\">\n",
              "    <button class=\"colab-df-convert\" onclick=\"convertToInteractive('df-40010100-fba5-48d3-bdc3-ee07d0ceac4a')\"\n",
              "            title=\"Convert this dataframe to an interactive table.\"\n",
              "            style=\"display:none;\">\n",
              "\n",
              "  <svg xmlns=\"http://www.w3.org/2000/svg\" height=\"24px\" viewBox=\"0 -960 960 960\">\n",
              "    <path d=\"M120-120v-720h720v720H120Zm60-500h600v-160H180v160Zm220 220h160v-160H400v160Zm0 220h160v-160H400v160ZM180-400h160v-160H180v160Zm440 0h160v-160H620v160ZM180-180h160v-160H180v160Zm440 0h160v-160H620v160Z\"/>\n",
              "  </svg>\n",
              "    </button>\n",
              "\n",
              "  <style>\n",
              "    .colab-df-container {\n",
              "      display:flex;\n",
              "      gap: 12px;\n",
              "    }\n",
              "\n",
              "    .colab-df-convert {\n",
              "      background-color: #E8F0FE;\n",
              "      border: none;\n",
              "      border-radius: 50%;\n",
              "      cursor: pointer;\n",
              "      display: none;\n",
              "      fill: #1967D2;\n",
              "      height: 32px;\n",
              "      padding: 0 0 0 0;\n",
              "      width: 32px;\n",
              "    }\n",
              "\n",
              "    .colab-df-convert:hover {\n",
              "      background-color: #E2EBFA;\n",
              "      box-shadow: 0px 1px 2px rgba(60, 64, 67, 0.3), 0px 1px 3px 1px rgba(60, 64, 67, 0.15);\n",
              "      fill: #174EA6;\n",
              "    }\n",
              "\n",
              "    .colab-df-buttons div {\n",
              "      margin-bottom: 4px;\n",
              "    }\n",
              "\n",
              "    [theme=dark] .colab-df-convert {\n",
              "      background-color: #3B4455;\n",
              "      fill: #D2E3FC;\n",
              "    }\n",
              "\n",
              "    [theme=dark] .colab-df-convert:hover {\n",
              "      background-color: #434B5C;\n",
              "      box-shadow: 0px 1px 3px 1px rgba(0, 0, 0, 0.15);\n",
              "      filter: drop-shadow(0px 1px 2px rgba(0, 0, 0, 0.3));\n",
              "      fill: #FFFFFF;\n",
              "    }\n",
              "  </style>\n",
              "\n",
              "    <script>\n",
              "      const buttonEl =\n",
              "        document.querySelector('#df-40010100-fba5-48d3-bdc3-ee07d0ceac4a button.colab-df-convert');\n",
              "      buttonEl.style.display =\n",
              "        google.colab.kernel.accessAllowed ? 'block' : 'none';\n",
              "\n",
              "      async function convertToInteractive(key) {\n",
              "        const element = document.querySelector('#df-40010100-fba5-48d3-bdc3-ee07d0ceac4a');\n",
              "        const dataTable =\n",
              "          await google.colab.kernel.invokeFunction('convertToInteractive',\n",
              "                                                    [key], {});\n",
              "        if (!dataTable) return;\n",
              "\n",
              "        const docLinkHtml = 'Like what you see? Visit the ' +\n",
              "          '<a target=\"_blank\" href=https://colab.research.google.com/notebooks/data_table.ipynb>data table notebook</a>'\n",
              "          + ' to learn more about interactive tables.';\n",
              "        element.innerHTML = '';\n",
              "        dataTable['output_type'] = 'display_data';\n",
              "        await google.colab.output.renderOutput(dataTable, element);\n",
              "        const docLink = document.createElement('div');\n",
              "        docLink.innerHTML = docLinkHtml;\n",
              "        element.appendChild(docLink);\n",
              "      }\n",
              "    </script>\n",
              "  </div>\n",
              "\n",
              "\n",
              "<div id=\"df-37ecb0e8-6bee-4d50-ad9a-c4d4530cbaeb\">\n",
              "  <button class=\"colab-df-quickchart\" onclick=\"quickchart('df-37ecb0e8-6bee-4d50-ad9a-c4d4530cbaeb')\"\n",
              "            title=\"Suggest charts\"\n",
              "            style=\"display:none;\">\n",
              "\n",
              "<svg xmlns=\"http://www.w3.org/2000/svg\" height=\"24px\"viewBox=\"0 0 24 24\"\n",
              "     width=\"24px\">\n",
              "    <g>\n",
              "        <path d=\"M19 3H5c-1.1 0-2 .9-2 2v14c0 1.1.9 2 2 2h14c1.1 0 2-.9 2-2V5c0-1.1-.9-2-2-2zM9 17H7v-7h2v7zm4 0h-2V7h2v10zm4 0h-2v-4h2v4z\"/>\n",
              "    </g>\n",
              "</svg>\n",
              "  </button>\n",
              "\n",
              "<style>\n",
              "  .colab-df-quickchart {\n",
              "      --bg-color: #E8F0FE;\n",
              "      --fill-color: #1967D2;\n",
              "      --hover-bg-color: #E2EBFA;\n",
              "      --hover-fill-color: #174EA6;\n",
              "      --disabled-fill-color: #AAA;\n",
              "      --disabled-bg-color: #DDD;\n",
              "  }\n",
              "\n",
              "  [theme=dark] .colab-df-quickchart {\n",
              "      --bg-color: #3B4455;\n",
              "      --fill-color: #D2E3FC;\n",
              "      --hover-bg-color: #434B5C;\n",
              "      --hover-fill-color: #FFFFFF;\n",
              "      --disabled-bg-color: #3B4455;\n",
              "      --disabled-fill-color: #666;\n",
              "  }\n",
              "\n",
              "  .colab-df-quickchart {\n",
              "    background-color: var(--bg-color);\n",
              "    border: none;\n",
              "    border-radius: 50%;\n",
              "    cursor: pointer;\n",
              "    display: none;\n",
              "    fill: var(--fill-color);\n",
              "    height: 32px;\n",
              "    padding: 0;\n",
              "    width: 32px;\n",
              "  }\n",
              "\n",
              "  .colab-df-quickchart:hover {\n",
              "    background-color: var(--hover-bg-color);\n",
              "    box-shadow: 0 1px 2px rgba(60, 64, 67, 0.3), 0 1px 3px 1px rgba(60, 64, 67, 0.15);\n",
              "    fill: var(--button-hover-fill-color);\n",
              "  }\n",
              "\n",
              "  .colab-df-quickchart-complete:disabled,\n",
              "  .colab-df-quickchart-complete:disabled:hover {\n",
              "    background-color: var(--disabled-bg-color);\n",
              "    fill: var(--disabled-fill-color);\n",
              "    box-shadow: none;\n",
              "  }\n",
              "\n",
              "  .colab-df-spinner {\n",
              "    border: 2px solid var(--fill-color);\n",
              "    border-color: transparent;\n",
              "    border-bottom-color: var(--fill-color);\n",
              "    animation:\n",
              "      spin 1s steps(1) infinite;\n",
              "  }\n",
              "\n",
              "  @keyframes spin {\n",
              "    0% {\n",
              "      border-color: transparent;\n",
              "      border-bottom-color: var(--fill-color);\n",
              "      border-left-color: var(--fill-color);\n",
              "    }\n",
              "    20% {\n",
              "      border-color: transparent;\n",
              "      border-left-color: var(--fill-color);\n",
              "      border-top-color: var(--fill-color);\n",
              "    }\n",
              "    30% {\n",
              "      border-color: transparent;\n",
              "      border-left-color: var(--fill-color);\n",
              "      border-top-color: var(--fill-color);\n",
              "      border-right-color: var(--fill-color);\n",
              "    }\n",
              "    40% {\n",
              "      border-color: transparent;\n",
              "      border-right-color: var(--fill-color);\n",
              "      border-top-color: var(--fill-color);\n",
              "    }\n",
              "    60% {\n",
              "      border-color: transparent;\n",
              "      border-right-color: var(--fill-color);\n",
              "    }\n",
              "    80% {\n",
              "      border-color: transparent;\n",
              "      border-right-color: var(--fill-color);\n",
              "      border-bottom-color: var(--fill-color);\n",
              "    }\n",
              "    90% {\n",
              "      border-color: transparent;\n",
              "      border-bottom-color: var(--fill-color);\n",
              "    }\n",
              "  }\n",
              "</style>\n",
              "\n",
              "  <script>\n",
              "    async function quickchart(key) {\n",
              "      const quickchartButtonEl =\n",
              "        document.querySelector('#' + key + ' button');\n",
              "      quickchartButtonEl.disabled = true;  // To prevent multiple clicks.\n",
              "      quickchartButtonEl.classList.add('colab-df-spinner');\n",
              "      try {\n",
              "        const charts = await google.colab.kernel.invokeFunction(\n",
              "            'suggestCharts', [key], {});\n",
              "      } catch (error) {\n",
              "        console.error('Error during call to suggestCharts:', error);\n",
              "      }\n",
              "      quickchartButtonEl.classList.remove('colab-df-spinner');\n",
              "      quickchartButtonEl.classList.add('colab-df-quickchart-complete');\n",
              "    }\n",
              "    (() => {\n",
              "      let quickchartButtonEl =\n",
              "        document.querySelector('#df-37ecb0e8-6bee-4d50-ad9a-c4d4530cbaeb button');\n",
              "      quickchartButtonEl.style.display =\n",
              "        google.colab.kernel.accessAllowed ? 'block' : 'none';\n",
              "    })();\n",
              "  </script>\n",
              "</div>\n",
              "\n",
              "    </div>\n",
              "  </div>\n"
            ],
            "application/vnd.google.colaboratory.intrinsic+json": {
              "type": "dataframe",
              "variable_name": "heart_df",
              "summary": "{\n  \"name\": \"heart_df\",\n  \"rows\": 303,\n  \"fields\": [\n    {\n      \"column\": \"age\",\n      \"properties\": {\n        \"dtype\": \"number\",\n        \"std\": 9,\n        \"min\": 29,\n        \"max\": 77,\n        \"num_unique_values\": 41,\n        \"samples\": [\n          61,\n          64,\n          44\n        ],\n        \"semantic_type\": \"\",\n        \"description\": \"\"\n      }\n    },\n    {\n      \"column\": \"sex\",\n      \"properties\": {\n        \"dtype\": \"number\",\n        \"std\": 0,\n        \"min\": 0,\n        \"max\": 1,\n        \"num_unique_values\": 2,\n        \"samples\": [\n          0,\n          1\n        ],\n        \"semantic_type\": \"\",\n        \"description\": \"\"\n      }\n    },\n    {\n      \"column\": \"cp\",\n      \"properties\": {\n        \"dtype\": \"number\",\n        \"std\": 1,\n        \"min\": 0,\n        \"max\": 4,\n        \"num_unique_values\": 5,\n        \"samples\": [\n          4,\n          0\n        ],\n        \"semantic_type\": \"\",\n        \"description\": \"\"\n      }\n    },\n    {\n      \"column\": \"trestbps\",\n      \"properties\": {\n        \"dtype\": \"number\",\n        \"std\": 17,\n        \"min\": 94,\n        \"max\": 200,\n        \"num_unique_values\": 50,\n        \"samples\": [\n          104,\n          192\n        ],\n        \"semantic_type\": \"\",\n        \"description\": \"\"\n      }\n    },\n    {\n      \"column\": \"chol\",\n      \"properties\": {\n        \"dtype\": \"number\",\n        \"std\": 52,\n        \"min\": 126,\n        \"max\": 564,\n        \"num_unique_values\": 152,\n        \"samples\": [\n          261,\n          182\n        ],\n        \"semantic_type\": \"\",\n        \"description\": \"\"\n      }\n    },\n    {\n      \"column\": \"fbs\",\n      \"properties\": {\n        \"dtype\": \"number\",\n        \"std\": 0,\n        \"min\": 0,\n        \"max\": 1,\n        \"num_unique_values\": 2,\n        \"samples\": [\n          0,\n          1\n        ],\n        \"semantic_type\": \"\",\n        \"description\": \"\"\n      }\n    },\n    {\n      \"column\": \"restecg\",\n      \"properties\": {\n        \"dtype\": \"number\",\n        \"std\": 0,\n        \"min\": 0,\n        \"max\": 2,\n        \"num_unique_values\": 3,\n        \"samples\": [\n          2,\n          0\n        ],\n        \"semantic_type\": \"\",\n        \"description\": \"\"\n      }\n    },\n    {\n      \"column\": \"thalach\",\n      \"properties\": {\n        \"dtype\": \"number\",\n        \"std\": 23,\n        \"min\": 71,\n        \"max\": 202,\n        \"num_unique_values\": 91,\n        \"samples\": [\n          175,\n          114\n        ],\n        \"semantic_type\": \"\",\n        \"description\": \"\"\n      }\n    },\n    {\n      \"column\": \"exang\",\n      \"properties\": {\n        \"dtype\": \"number\",\n        \"std\": 0,\n        \"min\": 0,\n        \"max\": 1,\n        \"num_unique_values\": 2,\n        \"samples\": [\n          1,\n          0\n        ],\n        \"semantic_type\": \"\",\n        \"description\": \"\"\n      }\n    },\n    {\n      \"column\": \"oldpeak\",\n      \"properties\": {\n        \"dtype\": \"number\",\n        \"std\": 1.1650246194814895,\n        \"min\": 0.0,\n        \"max\": 6.2,\n        \"num_unique_values\": 40,\n        \"samples\": [\n          2.4,\n          0.2\n        ],\n        \"semantic_type\": \"\",\n        \"description\": \"\"\n      }\n    },\n    {\n      \"column\": \"slope\",\n      \"properties\": {\n        \"dtype\": \"number\",\n        \"std\": 0,\n        \"min\": 1,\n        \"max\": 3,\n        \"num_unique_values\": 3,\n        \"samples\": [\n          3,\n          2\n        ],\n        \"semantic_type\": \"\",\n        \"description\": \"\"\n      }\n    },\n    {\n      \"column\": \"ca\",\n      \"properties\": {\n        \"dtype\": \"number\",\n        \"std\": 0,\n        \"min\": 0,\n        \"max\": 3,\n        \"num_unique_values\": 4,\n        \"samples\": [\n          3,\n          1\n        ],\n        \"semantic_type\": \"\",\n        \"description\": \"\"\n      }\n    },\n    {\n      \"column\": \"thal\",\n      \"properties\": {\n        \"dtype\": \"category\",\n        \"num_unique_values\": 5,\n        \"samples\": [\n          \"normal\",\n          \"2\"\n        ],\n        \"semantic_type\": \"\",\n        \"description\": \"\"\n      }\n    },\n    {\n      \"column\": \"target\",\n      \"properties\": {\n        \"dtype\": \"number\",\n        \"std\": 0,\n        \"min\": 0,\n        \"max\": 1,\n        \"num_unique_values\": 2,\n        \"samples\": [\n          1,\n          0\n        ],\n        \"semantic_type\": \"\",\n        \"description\": \"\"\n      }\n    }\n  ]\n}"
            }
          },
          "metadata": {},
          "execution_count": 9
        }
      ],
      "source": [
        "## YOUR CODE HERE\n",
        "heart_df.head()"
      ]
    },
    {
      "cell_type": "code",
      "source": [],
      "metadata": {
        "id": "QBpSoeLdpQPk"
      },
      "execution_count": null,
      "outputs": []
    },
    {
      "cell_type": "code",
      "source": [],
      "metadata": {
        "id": "GF4wGdtjpM1R"
      },
      "execution_count": null,
      "outputs": []
    },
    {
      "cell_type": "markdown",
      "metadata": {
        "id": "Glx6sm_daxsU"
      },
      "source": [
        "Draw some inference from the data. What does the target column indicate?\n",
        "\n",
        "The last column, \"target\", indicates whether the patient has a heart disease (1) or not\n",
        "(0)."
      ]
    },
    {
      "cell_type": "markdown",
      "source": [
        "### Split the data into a training and validation set\n",
        "\n",
        "Hint:: Use .sample() method from Pandas.\n",
        "\n",
        "Refer to link [here](https://pandas.pydata.org/docs/reference/api/pandas.DataFrame.sample.html)\n",
        "\n",
        "Official reference from pandas for drop method [here](https://pandas.pydata.org/docs/reference/api/pandas.DataFrame.drop.html)"
      ],
      "metadata": {
        "id": "sUsajA0isrL9"
      }
    },
    {
      "cell_type": "code",
      "execution_count": 10,
      "metadata": {
        "id": "TyXJ6K9maxsV",
        "colab": {
          "base_uri": "https://localhost:8080/"
        },
        "outputId": "e46fb069-4c25-47db-b65e-8c3226aad633"
      },
      "outputs": [
        {
          "output_type": "stream",
          "name": "stdout",
          "text": [
            "Using 242 samples for training and 61 for validation\n"
          ]
        }
      ],
      "source": [
        "## YOUR CODE HERE\n",
        "train_data = heart_df.sample(frac=0.8, random_state=42)\n",
        "\n",
        "# Select the rows that are not in the training set to create the test set\n",
        "test_data = heart_df.drop(train_data.index)\n",
        "\n",
        "# Optionally, reset the index for both train and test datasets\n",
        "train_data.reset_index(drop=True, inplace=True)\n",
        "test_data.reset_index(drop=True, inplace=True)\n",
        "\n",
        "## YOUR CODE HERE\n",
        "\n",
        "print(\n",
        "    \"Using %d samples for training and %d for validation\"\n",
        "    % (len(train_data), len(test_data))\n",
        ")"
      ]
    },
    {
      "cell_type": "code",
      "source": [],
      "metadata": {
        "id": "WG2QBsT00ZjD"
      },
      "execution_count": null,
      "outputs": []
    },
    {
      "cell_type": "markdown",
      "source": [
        "### Converting into tensorflow dataset & creating batches"
      ],
      "metadata": {
        "id": "0GzvSLUsr56A"
      }
    },
    {
      "cell_type": "markdown",
      "metadata": {
        "id": "yylt5oWvaxsV"
      },
      "source": [
        "Generate `tf.data.Dataset` objects for each dataframe:\n",
        "\n",
        "Each `Dataset` yields a tuple `(input, target)` where `input` is a dictionary of features\n",
        "and `target` is the value `0` or `1`:\n",
        "\n",
        "Refer [here](https://www.tensorflow.org/api_docs/python/tf/data/Dataset#from_tensor_slices) to create the tuple using tensorflow."
      ]
    },
    {
      "cell_type": "code",
      "execution_count": 11,
      "metadata": {
        "id": "ZLwPzHf-axsV"
      },
      "outputs": [],
      "source": [
        "def dataframe_to_dataset(dataframe):\n",
        "    ## YOUR CODE HERE\n",
        "    dataframe = dataframe.copy()\n",
        "    # Extract features and targets\n",
        "    targets = dataframe.pop('target')\n",
        "    features = dict(dataframe)\n",
        "    # Convert targets to one-hot encoding\n",
        "    targets = tf.one_hot(targets, depth=2)\n",
        "    # Convert features and targets to tf.data.Dataset\n",
        "    ds = tf.data.Dataset.from_tensor_slices((features, targets))\n",
        "    return ds\n",
        "\n",
        "train_ds = dataframe_to_dataset(train_data)\n",
        "test_ds = dataframe_to_dataset(test_data)"
      ]
    },
    {
      "cell_type": "code",
      "source": [
        "# Example usage to iterate over the datasets\n",
        "for input, target in train_ds.take(1):\n",
        "    print(\"Input features:\", input)\n",
        "    print(\"Target:\", target)"
      ],
      "metadata": {
        "colab": {
          "base_uri": "https://localhost:8080/"
        },
        "id": "bGLbnrXT1OEE",
        "outputId": "b74830c2-58b9-4297-ef67-ae77ad05e24e"
      },
      "execution_count": 12,
      "outputs": [
        {
          "output_type": "stream",
          "name": "stdout",
          "text": [
            "Input features: {'age': <tf.Tensor: shape=(), dtype=int64, numpy=49>, 'sex': <tf.Tensor: shape=(), dtype=int64, numpy=1>, 'cp': <tf.Tensor: shape=(), dtype=int64, numpy=3>, 'trestbps': <tf.Tensor: shape=(), dtype=int64, numpy=118>, 'chol': <tf.Tensor: shape=(), dtype=int64, numpy=149>, 'fbs': <tf.Tensor: shape=(), dtype=int64, numpy=0>, 'restecg': <tf.Tensor: shape=(), dtype=int64, numpy=2>, 'thalach': <tf.Tensor: shape=(), dtype=int64, numpy=126>, 'exang': <tf.Tensor: shape=(), dtype=int64, numpy=0>, 'oldpeak': <tf.Tensor: shape=(), dtype=float64, numpy=0.8>, 'slope': <tf.Tensor: shape=(), dtype=int64, numpy=1>, 'ca': <tf.Tensor: shape=(), dtype=int64, numpy=3>, 'thal': <tf.Tensor: shape=(), dtype=string, numpy=b'normal'>}\n",
            "Target: tf.Tensor([1. 0.], shape=(2,), dtype=float32)\n"
          ]
        }
      ]
    },
    {
      "cell_type": "code",
      "source": [],
      "metadata": {
        "id": "oG5QCEdn1KyX"
      },
      "execution_count": null,
      "outputs": []
    },
    {
      "cell_type": "code",
      "execution_count": null,
      "metadata": {
        "id": "oeCYFOjLaxsW"
      },
      "outputs": [],
      "source": [
        "# Visualizing one datapoint from the formatted data\n",
        "## YOUR CODE HERE"
      ]
    },
    {
      "cell_type": "markdown",
      "metadata": {
        "id": "_JNHU2qQaxsW"
      },
      "source": [
        "#### Create the batch of the datasets:"
      ]
    },
    {
      "cell_type": "markdown",
      "source": [
        "Refer [here](https://www.tensorflow.org/api_docs/python/tf/data/Dataset#batch) to create a batch using tensorflow."
      ],
      "metadata": {
        "id": "06SkbqOG4egU"
      }
    },
    {
      "cell_type": "code",
      "execution_count": 14,
      "metadata": {
        "id": "Rb11lwxDaxsW",
        "colab": {
          "base_uri": "https://localhost:8080/"
        },
        "outputId": "5c0d2c46-77c9-402a-c89a-5810ad50def2"
      },
      "outputs": [
        {
          "output_type": "stream",
          "name": "stdout",
          "text": [
            "({'age': array([49, 55, 54, 57, 66, 53, 53, 39, 50, 59, 56, 67, 44, 54, 70, 65, 56,\n",
            "       67, 48, 54, 45, 41, 51, 50, 59, 60, 71, 65, 58, 46, 51, 52]), 'sex': array([1, 0, 0, 0, 1, 1, 1, 0, 1, 1, 1, 0, 1, 1, 1, 0, 1, 1, 1, 1, 1, 1,\n",
            "       0, 0, 1, 0, 0, 1, 1, 1, 1, 1]), 'cp': array([3, 4, 3, 2, 4, 4, 4, 3, 3, 4, 2, 3, 4, 4, 3, 3, 4, 4, 4, 3, 4, 4,\n",
            "       4, 3, 1, 4, 2, 1, 4, 2, 4, 2]), 'trestbps': array([118, 128, 110, 130, 120, 140, 142, 138, 140, 135, 120, 115, 110,\n",
            "       110, 160, 160, 132, 120, 122, 150, 142, 110, 130, 120, 160, 150,\n",
            "       160, 138, 114, 101, 140, 134]), 'chol': array([149, 205, 214, 236, 302, 203, 226, 220, 233, 234, 236, 564, 197,\n",
            "       206, 269, 360, 184, 237, 222, 232, 309, 172, 305, 219, 273, 258,\n",
            "       302, 282, 318, 197, 298, 201]), 'fbs': array([0, 0, 0, 0, 0, 1, 0, 0, 0, 0, 0, 0, 0, 0, 0, 0, 0, 0, 0, 0, 0, 0,\n",
            "       0, 0, 0, 0, 0, 1, 0, 1, 0, 0]), 'restecg': array([2, 1, 0, 2, 2, 2, 2, 0, 0, 0, 0, 2, 2, 2, 0, 2, 2, 0, 2, 2, 2, 2,\n",
            "       0, 0, 2, 2, 0, 2, 1, 0, 0, 0]), 'thalach': array([126, 130, 158, 174, 151, 155, 111, 152, 163, 161, 178, 160, 177,\n",
            "       108, 112, 151, 105,  71, 186, 165, 147, 158, 142, 158, 125, 157,\n",
            "       162, 174, 140, 156, 122, 158]), 'exang': array([0, 1, 0, 0, 0, 1, 1, 0, 0, 0, 0, 0, 0, 1, 1, 0, 1, 0, 0, 0, 1, 0,\n",
            "       1, 0, 0, 0, 0, 0, 0, 0, 1, 0]), 'oldpeak': array([0.8, 2. , 1.6, 0. , 0.4, 3.1, 0. , 0. , 0.6, 0.5, 0.8, 1.6, 0. ,\n",
            "       0. , 2.9, 0.8, 2.1, 1. , 0. , 1.6, 0. , 0. , 1.2, 1.6, 0. , 2.6,\n",
            "       0.4, 1.4, 4.4, 0. , 4.2, 0.8]), 'slope': array([1, 2, 2, 2, 2, 3, 1, 2, 2, 2, 1, 2, 1, 2, 2, 1, 2, 2, 1, 1, 2, 1,\n",
            "       2, 2, 1, 2, 1, 2, 3, 1, 2, 1]), 'ca': array([3, 1, 0, 1, 0, 0, 0, 0, 1, 0, 0, 0, 1, 1, 1, 0, 1, 0, 0, 0, 3, 0,\n",
            "       0, 0, 0, 2, 2, 1, 3, 0, 3, 1]), 'thal': array([b'normal', b'reversible', b'normal', b'normal', b'normal',\n",
            "       b'reversible', b'reversible', b'normal', b'reversible',\n",
            "       b'reversible', b'normal', b'reversible', b'normal', b'normal',\n",
            "       b'reversible', b'normal', b'fixed', b'normal', b'normal',\n",
            "       b'reversible', b'reversible', b'reversible', b'reversible',\n",
            "       b'normal', b'normal', b'reversible', b'normal', b'normal',\n",
            "       b'fixed', b'reversible', b'reversible', b'normal'], dtype=object)}, array([[1., 0.],\n",
            "       [0., 1.],\n",
            "       [1., 0.],\n",
            "       [1., 0.],\n",
            "       [1., 0.],\n",
            "       [1., 0.],\n",
            "       [1., 0.],\n",
            "       [1., 0.],\n",
            "       [1., 0.],\n",
            "       [1., 0.],\n",
            "       [1., 0.],\n",
            "       [1., 0.],\n",
            "       [1., 0.],\n",
            "       [0., 1.],\n",
            "       [0., 1.],\n",
            "       [1., 0.],\n",
            "       [1., 0.],\n",
            "       [0., 1.],\n",
            "       [1., 0.],\n",
            "       [1., 0.],\n",
            "       [0., 1.],\n",
            "       [1., 0.],\n",
            "       [0., 1.],\n",
            "       [1., 0.],\n",
            "       [1., 0.],\n",
            "       [0., 1.],\n",
            "       [1., 0.],\n",
            "       [1., 0.],\n",
            "       [0., 1.],\n",
            "       [1., 0.],\n",
            "       [0., 1.],\n",
            "       [1., 0.]], dtype=float32))\n"
          ]
        }
      ],
      "source": [
        "## YOUR CODE HERE  ## For train\n",
        "# Define the batch size\n",
        "BATCH_SIZE = 32\n",
        "\n",
        "# Create batches from the train dataset\n",
        "train_batched_dataset = train_ds.batch(BATCH_SIZE)\n",
        "\n",
        "## YOUR CODE HERE  ## For val\n",
        "test_batched_dataset = test_ds.batch(BATCH_SIZE)\n",
        "\n",
        "for i in train_batched_dataset.as_numpy_iterator():\n",
        "    print(i)\n",
        "    break\n"
      ]
    },
    {
      "cell_type": "markdown",
      "source": [
        "## Feature preprocessing with Keras layers [3 Marks]"
      ],
      "metadata": {
        "id": "DgY1sXyn43g3"
      }
    },
    {
      "cell_type": "markdown",
      "source": [
        "### Categorical Features Encoding"
      ],
      "metadata": {
        "id": "kDHb-mam8Aw-"
      }
    },
    {
      "cell_type": "markdown",
      "source": [
        "The following features are categorical features encoded as integers:\n",
        "\n",
        "- `sex`\n",
        "- `cp`\n",
        "- `fbs`\n",
        "- `restecg`\n",
        "- `exang`\n",
        "- `ca`"
      ],
      "metadata": {
        "id": "PYQu-1Gl46a1"
      }
    },
    {
      "cell_type": "code",
      "source": [
        "Sex"
      ],
      "metadata": {
        "id": "Kn01rIY9EGU9"
      },
      "execution_count": null,
      "outputs": []
    },
    {
      "cell_type": "markdown",
      "source": [
        "We will encode these features using **one-hot encoding**. We have two options\n",
        "here:\n",
        "\n",
        " - Use `CategoryEncoding()`, which requires knowing the range of input values\n",
        " and will throw an error on input outside the range.\n",
        " - Use `IntegerLookup()` which will build a lookup table for inputs and **reserve\n",
        " an output index for unkown input values**.\n",
        "\n",
        "For this example, we want a simple solution that will handle out of range inputs\n",
        "at inference, so we will use `IntegerLookup()`.\n",
        "\n",
        "We also have a categorical feature encoded as a string: `thal`. We will create an\n",
        "index of all possible features and encode output using the `StringLookup()` layer."
      ],
      "metadata": {
        "id": "FC9vOfeA796e"
      }
    },
    {
      "cell_type": "markdown",
      "source": [
        "Create a function `encode_categorical_feature`, this function takes four parameters.\n",
        "1. Feature to be encoded.\n",
        "2. Name of the feature in the dataset.\n",
        "3. Dataset containing the feature.\n",
        "4. A boolean value wether the feature is string or not."
      ],
      "metadata": {
        "id": "LBPnzKnA_F1g"
      }
    },
    {
      "cell_type": "markdown",
      "source": [
        "**Refer :** StringLookup [here](https://www.tensorflow.org/api_docs/python/tf/keras/layers/StringLookup) and IntegerLookup [here](https://www.tensorflow.org/api_docs/python/tf/keras/layers/IntegerLookup)."
      ],
      "metadata": {
        "id": "5c71RPyG-oMf"
      }
    },
    {
      "cell_type": "code",
      "source": [
        "def encode_categorical_feature(feature, name, dataset, is_string):\n",
        "    if is_string:\n",
        "\n",
        "    ### YOUR CODE HERE\n",
        "    # Create a lookup layer which will turn strings into integer indices\n",
        "        lookup_layer = StringLookup(output_mode= 'one_hot', num_oov_indices= 0)\n",
        "\n",
        "    # Prepare a Dataset that only yields our feature\n",
        "    ## YOUR CODE HERE\n",
        "        feature_dataset = dataset.map(lambda x,y: x[feature])\n",
        "        feature_dataset = np.array(list(feature_dataset.as_numpy_iterator()))\n",
        "\n",
        "    # Learn the set of possible string values and assign them a fixed integer index\n",
        "    ## YOUR CODE HERE\n",
        "        lookup_layer.adapt(feature_dataset)\n",
        "\n",
        "\n",
        "    # Turn the string input into integer indices\n",
        "    ## YOUR CODE HERE\n",
        "        encoded_feature = lookup_layer(feature_dataset)\n",
        "    else:\n",
        "        lookup_layer= IntegerLookup(output_mode = 'one_hot', num_oov_indices= 0)\n",
        "        feature_dataset = dataset.map(lambda x,y: x[feature])\n",
        "        feature_dataset = np.array(list(feature_dataset.as_numpy_iterator()))\n",
        "        lookup_layer.adapt(feature_dataset)\n",
        "        encoded_feature = lookup_layer(feature_dataset)\n",
        "\n",
        "\n",
        "    return encoded_feature\n"
      ],
      "metadata": {
        "id": "drcy1lla5G9n",
        "colab": {
          "base_uri": "https://localhost:8080/"
        },
        "outputId": "a3b21057-ac0d-41ad-ce65-c3328e545e61"
      },
      "execution_count": 15,
      "outputs": [
        {
          "output_type": "stream",
          "name": "stdout",
          "text": [
            "tf.Tensor(\n",
            "[[1. 0.]\n",
            " [0. 1.]\n",
            " [0. 1.]\n",
            " [0. 1.]\n",
            " [1. 0.]\n",
            " [1. 0.]\n",
            " [1. 0.]\n",
            " [0. 1.]\n",
            " [1. 0.]\n",
            " [1. 0.]\n",
            " [1. 0.]\n",
            " [0. 1.]\n",
            " [1. 0.]\n",
            " [1. 0.]\n",
            " [1. 0.]\n",
            " [0. 1.]\n",
            " [1. 0.]\n",
            " [1. 0.]\n",
            " [1. 0.]\n",
            " [1. 0.]\n",
            " [1. 0.]\n",
            " [1. 0.]\n",
            " [0. 1.]\n",
            " [0. 1.]\n",
            " [1. 0.]\n",
            " [0. 1.]\n",
            " [0. 1.]\n",
            " [1. 0.]\n",
            " [1. 0.]\n",
            " [1. 0.]\n",
            " [1. 0.]\n",
            " [1. 0.]\n",
            " [1. 0.]\n",
            " [1. 0.]\n",
            " [1. 0.]\n",
            " [0. 1.]\n",
            " [1. 0.]\n",
            " [1. 0.]\n",
            " [1. 0.]\n",
            " [1. 0.]\n",
            " [1. 0.]\n",
            " [1. 0.]\n",
            " [1. 0.]\n",
            " [1. 0.]\n",
            " [0. 1.]\n",
            " [1. 0.]\n",
            " [1. 0.]\n",
            " [0. 1.]\n",
            " [1. 0.]\n",
            " [0. 1.]\n",
            " [0. 1.]\n",
            " [1. 0.]\n",
            " [0. 1.]\n",
            " [1. 0.]\n",
            " [0. 1.]\n",
            " [0. 1.]\n",
            " [1. 0.]\n",
            " [1. 0.]\n",
            " [1. 0.]\n",
            " [1. 0.]\n",
            " [1. 0.]\n",
            " [0. 1.]\n",
            " [0. 1.]\n",
            " [1. 0.]\n",
            " [0. 1.]\n",
            " [1. 0.]\n",
            " [0. 1.]\n",
            " [1. 0.]\n",
            " [0. 1.]\n",
            " [0. 1.]\n",
            " [0. 1.]\n",
            " [1. 0.]\n",
            " [1. 0.]\n",
            " [1. 0.]\n",
            " [0. 1.]\n",
            " [1. 0.]\n",
            " [1. 0.]\n",
            " [1. 0.]\n",
            " [1. 0.]\n",
            " [1. 0.]\n",
            " [0. 1.]\n",
            " [1. 0.]\n",
            " [0. 1.]\n",
            " [0. 1.]\n",
            " [1. 0.]\n",
            " [0. 1.]\n",
            " [1. 0.]\n",
            " [1. 0.]\n",
            " [1. 0.]\n",
            " [1. 0.]\n",
            " [0. 1.]\n",
            " [1. 0.]\n",
            " [1. 0.]\n",
            " [1. 0.]\n",
            " [1. 0.]\n",
            " [0. 1.]\n",
            " [1. 0.]\n",
            " [1. 0.]\n",
            " [1. 0.]\n",
            " [1. 0.]\n",
            " [1. 0.]\n",
            " [1. 0.]\n",
            " [1. 0.]\n",
            " [1. 0.]\n",
            " [0. 1.]\n",
            " [1. 0.]\n",
            " [1. 0.]\n",
            " [0. 1.]\n",
            " [1. 0.]\n",
            " [0. 1.]\n",
            " [1. 0.]\n",
            " [1. 0.]\n",
            " [1. 0.]\n",
            " [0. 1.]\n",
            " [0. 1.]\n",
            " [1. 0.]\n",
            " [1. 0.]\n",
            " [0. 1.]\n",
            " [1. 0.]\n",
            " [1. 0.]\n",
            " [0. 1.]\n",
            " [1. 0.]\n",
            " [0. 1.]\n",
            " [1. 0.]\n",
            " [1. 0.]\n",
            " [1. 0.]\n",
            " [1. 0.]\n",
            " [1. 0.]\n",
            " [1. 0.]\n",
            " [1. 0.]\n",
            " [0. 1.]\n",
            " [1. 0.]\n",
            " [0. 1.]\n",
            " [1. 0.]\n",
            " [0. 1.]\n",
            " [0. 1.]\n",
            " [0. 1.]\n",
            " [0. 1.]\n",
            " [1. 0.]\n",
            " [1. 0.]\n",
            " [0. 1.]\n",
            " [0. 1.]\n",
            " [1. 0.]\n",
            " [1. 0.]\n",
            " [0. 1.]\n",
            " [0. 1.]\n",
            " [0. 1.]\n",
            " [0. 1.]\n",
            " [1. 0.]\n",
            " [0. 1.]\n",
            " [1. 0.]\n",
            " [0. 1.]\n",
            " [1. 0.]\n",
            " [0. 1.]\n",
            " [0. 1.]\n",
            " [1. 0.]\n",
            " [0. 1.]\n",
            " [0. 1.]\n",
            " [0. 1.]\n",
            " [1. 0.]\n",
            " [1. 0.]\n",
            " [1. 0.]\n",
            " [0. 1.]\n",
            " [1. 0.]\n",
            " [1. 0.]\n",
            " [1. 0.]\n",
            " [1. 0.]\n",
            " [1. 0.]\n",
            " [1. 0.]\n",
            " [1. 0.]\n",
            " [1. 0.]\n",
            " [1. 0.]\n",
            " [1. 0.]\n",
            " [1. 0.]\n",
            " [1. 0.]\n",
            " [1. 0.]\n",
            " [0. 1.]\n",
            " [0. 1.]\n",
            " [1. 0.]\n",
            " [0. 1.]\n",
            " [1. 0.]\n",
            " [0. 1.]\n",
            " [0. 1.]\n",
            " [0. 1.]\n",
            " [1. 0.]\n",
            " [1. 0.]\n",
            " [1. 0.]\n",
            " [0. 1.]\n",
            " [0. 1.]\n",
            " [1. 0.]\n",
            " [1. 0.]\n",
            " [0. 1.]\n",
            " [0. 1.]\n",
            " [1. 0.]\n",
            " [0. 1.]\n",
            " [0. 1.]\n",
            " [1. 0.]\n",
            " [1. 0.]\n",
            " [1. 0.]\n",
            " [0. 1.]\n",
            " [0. 1.]\n",
            " [0. 1.]\n",
            " [1. 0.]\n",
            " [0. 1.]\n",
            " [1. 0.]\n",
            " [0. 1.]\n",
            " [1. 0.]\n",
            " [1. 0.]\n",
            " [0. 1.]\n",
            " [1. 0.]\n",
            " [1. 0.]\n",
            " [1. 0.]\n",
            " [1. 0.]\n",
            " [1. 0.]\n",
            " [1. 0.]\n",
            " [1. 0.]\n",
            " [1. 0.]\n",
            " [1. 0.]\n",
            " [1. 0.]\n",
            " [1. 0.]\n",
            " [0. 1.]\n",
            " [1. 0.]\n",
            " [1. 0.]\n",
            " [0. 1.]\n",
            " [0. 1.]\n",
            " [1. 0.]\n",
            " [1. 0.]\n",
            " [1. 0.]\n",
            " [1. 0.]\n",
            " [1. 0.]\n",
            " [1. 0.]\n",
            " [1. 0.]\n",
            " [1. 0.]\n",
            " [0. 1.]\n",
            " [1. 0.]\n",
            " [1. 0.]\n",
            " [1. 0.]\n",
            " [1. 0.]\n",
            " [0. 1.]\n",
            " [1. 0.]\n",
            " [1. 0.]\n",
            " [1. 0.]], shape=(242, 2), dtype=float32)\n"
          ]
        }
      ]
    },
    {
      "cell_type": "code",
      "source": [
        "# Encode the 'sex' feature\n",
        "result = encode_categorical_feature('sex','sex', train_ds, False)\n",
        "print(result)"
      ],
      "metadata": {
        "colab": {
          "base_uri": "https://localhost:8080/"
        },
        "id": "1jV4J9Zd2x8r",
        "outputId": "00055092-bc3c-44a6-d8f3-797919f168f8"
      },
      "execution_count": 24,
      "outputs": [
        {
          "output_type": "stream",
          "name": "stdout",
          "text": [
            "tf.Tensor(\n",
            "[[1. 0.]\n",
            " [0. 1.]\n",
            " [0. 1.]\n",
            " [0. 1.]\n",
            " [1. 0.]\n",
            " [1. 0.]\n",
            " [1. 0.]\n",
            " [0. 1.]\n",
            " [1. 0.]\n",
            " [1. 0.]\n",
            " [1. 0.]\n",
            " [0. 1.]\n",
            " [1. 0.]\n",
            " [1. 0.]\n",
            " [1. 0.]\n",
            " [0. 1.]\n",
            " [1. 0.]\n",
            " [1. 0.]\n",
            " [1. 0.]\n",
            " [1. 0.]\n",
            " [1. 0.]\n",
            " [1. 0.]\n",
            " [0. 1.]\n",
            " [0. 1.]\n",
            " [1. 0.]\n",
            " [0. 1.]\n",
            " [0. 1.]\n",
            " [1. 0.]\n",
            " [1. 0.]\n",
            " [1. 0.]\n",
            " [1. 0.]\n",
            " [1. 0.]\n",
            " [1. 0.]\n",
            " [1. 0.]\n",
            " [1. 0.]\n",
            " [0. 1.]\n",
            " [1. 0.]\n",
            " [1. 0.]\n",
            " [1. 0.]\n",
            " [1. 0.]\n",
            " [1. 0.]\n",
            " [1. 0.]\n",
            " [1. 0.]\n",
            " [1. 0.]\n",
            " [0. 1.]\n",
            " [1. 0.]\n",
            " [1. 0.]\n",
            " [0. 1.]\n",
            " [1. 0.]\n",
            " [0. 1.]\n",
            " [0. 1.]\n",
            " [1. 0.]\n",
            " [0. 1.]\n",
            " [1. 0.]\n",
            " [0. 1.]\n",
            " [0. 1.]\n",
            " [1. 0.]\n",
            " [1. 0.]\n",
            " [1. 0.]\n",
            " [1. 0.]\n",
            " [1. 0.]\n",
            " [0. 1.]\n",
            " [0. 1.]\n",
            " [1. 0.]\n",
            " [0. 1.]\n",
            " [1. 0.]\n",
            " [0. 1.]\n",
            " [1. 0.]\n",
            " [0. 1.]\n",
            " [0. 1.]\n",
            " [0. 1.]\n",
            " [1. 0.]\n",
            " [1. 0.]\n",
            " [1. 0.]\n",
            " [0. 1.]\n",
            " [1. 0.]\n",
            " [1. 0.]\n",
            " [1. 0.]\n",
            " [1. 0.]\n",
            " [1. 0.]\n",
            " [0. 1.]\n",
            " [1. 0.]\n",
            " [0. 1.]\n",
            " [0. 1.]\n",
            " [1. 0.]\n",
            " [0. 1.]\n",
            " [1. 0.]\n",
            " [1. 0.]\n",
            " [1. 0.]\n",
            " [1. 0.]\n",
            " [0. 1.]\n",
            " [1. 0.]\n",
            " [1. 0.]\n",
            " [1. 0.]\n",
            " [1. 0.]\n",
            " [0. 1.]\n",
            " [1. 0.]\n",
            " [1. 0.]\n",
            " [1. 0.]\n",
            " [1. 0.]\n",
            " [1. 0.]\n",
            " [1. 0.]\n",
            " [1. 0.]\n",
            " [1. 0.]\n",
            " [0. 1.]\n",
            " [1. 0.]\n",
            " [1. 0.]\n",
            " [0. 1.]\n",
            " [1. 0.]\n",
            " [0. 1.]\n",
            " [1. 0.]\n",
            " [1. 0.]\n",
            " [1. 0.]\n",
            " [0. 1.]\n",
            " [0. 1.]\n",
            " [1. 0.]\n",
            " [1. 0.]\n",
            " [0. 1.]\n",
            " [1. 0.]\n",
            " [1. 0.]\n",
            " [0. 1.]\n",
            " [1. 0.]\n",
            " [0. 1.]\n",
            " [1. 0.]\n",
            " [1. 0.]\n",
            " [1. 0.]\n",
            " [1. 0.]\n",
            " [1. 0.]\n",
            " [1. 0.]\n",
            " [1. 0.]\n",
            " [0. 1.]\n",
            " [1. 0.]\n",
            " [0. 1.]\n",
            " [1. 0.]\n",
            " [0. 1.]\n",
            " [0. 1.]\n",
            " [0. 1.]\n",
            " [0. 1.]\n",
            " [1. 0.]\n",
            " [1. 0.]\n",
            " [0. 1.]\n",
            " [0. 1.]\n",
            " [1. 0.]\n",
            " [1. 0.]\n",
            " [0. 1.]\n",
            " [0. 1.]\n",
            " [0. 1.]\n",
            " [0. 1.]\n",
            " [1. 0.]\n",
            " [0. 1.]\n",
            " [1. 0.]\n",
            " [0. 1.]\n",
            " [1. 0.]\n",
            " [0. 1.]\n",
            " [0. 1.]\n",
            " [1. 0.]\n",
            " [0. 1.]\n",
            " [0. 1.]\n",
            " [0. 1.]\n",
            " [1. 0.]\n",
            " [1. 0.]\n",
            " [1. 0.]\n",
            " [0. 1.]\n",
            " [1. 0.]\n",
            " [1. 0.]\n",
            " [1. 0.]\n",
            " [1. 0.]\n",
            " [1. 0.]\n",
            " [1. 0.]\n",
            " [1. 0.]\n",
            " [1. 0.]\n",
            " [1. 0.]\n",
            " [1. 0.]\n",
            " [1. 0.]\n",
            " [1. 0.]\n",
            " [1. 0.]\n",
            " [0. 1.]\n",
            " [0. 1.]\n",
            " [1. 0.]\n",
            " [0. 1.]\n",
            " [1. 0.]\n",
            " [0. 1.]\n",
            " [0. 1.]\n",
            " [0. 1.]\n",
            " [1. 0.]\n",
            " [1. 0.]\n",
            " [1. 0.]\n",
            " [0. 1.]\n",
            " [0. 1.]\n",
            " [1. 0.]\n",
            " [1. 0.]\n",
            " [0. 1.]\n",
            " [0. 1.]\n",
            " [1. 0.]\n",
            " [0. 1.]\n",
            " [0. 1.]\n",
            " [1. 0.]\n",
            " [1. 0.]\n",
            " [1. 0.]\n",
            " [0. 1.]\n",
            " [0. 1.]\n",
            " [0. 1.]\n",
            " [1. 0.]\n",
            " [0. 1.]\n",
            " [1. 0.]\n",
            " [0. 1.]\n",
            " [1. 0.]\n",
            " [1. 0.]\n",
            " [0. 1.]\n",
            " [1. 0.]\n",
            " [1. 0.]\n",
            " [1. 0.]\n",
            " [1. 0.]\n",
            " [1. 0.]\n",
            " [1. 0.]\n",
            " [1. 0.]\n",
            " [1. 0.]\n",
            " [1. 0.]\n",
            " [1. 0.]\n",
            " [1. 0.]\n",
            " [0. 1.]\n",
            " [1. 0.]\n",
            " [1. 0.]\n",
            " [0. 1.]\n",
            " [0. 1.]\n",
            " [1. 0.]\n",
            " [1. 0.]\n",
            " [1. 0.]\n",
            " [1. 0.]\n",
            " [1. 0.]\n",
            " [1. 0.]\n",
            " [1. 0.]\n",
            " [1. 0.]\n",
            " [0. 1.]\n",
            " [1. 0.]\n",
            " [1. 0.]\n",
            " [1. 0.]\n",
            " [1. 0.]\n",
            " [0. 1.]\n",
            " [1. 0.]\n",
            " [1. 0.]\n",
            " [1. 0.]], shape=(242, 2), dtype=float32)\n"
          ]
        }
      ]
    },
    {
      "cell_type": "code",
      "source": [
        "# Next Steps"
      ],
      "metadata": {
        "id": "ouT3MRSW9ptf"
      },
      "execution_count": 17,
      "outputs": []
    },
    {
      "cell_type": "markdown",
      "metadata": {
        "id": "sTNTvYjfaxsW"
      },
      "source": [
        "### Numerical features Normalization\n",
        "The following feature are continuous numerical features:\n",
        "\n",
        "- `age`\n",
        "- `trestbps`\n",
        "- `chol`\n",
        "- `thalach`\n",
        "- `oldpeak`\n",
        "- `slope`\n",
        "\n",
        "For each of these features, we will use a `Normalization()` layer to make sure the mean\n",
        "of each feature is 0 and its standard deviation is 1.\n",
        "\n",
        "\n",
        "- Define a function `encode_numerical_feature` to apply featurewise normalization to numerical features.\n"
      ]
    },
    {
      "cell_type": "markdown",
      "source": [
        "Refer Normalization [here](https://www.tensorflow.org/api_docs/python/tf/keras/layers/Normalization)"
      ],
      "metadata": {
        "id": "SQ0TCXUOAXgE"
      }
    },
    {
      "cell_type": "code",
      "execution_count": 60,
      "metadata": {
        "id": "g1Zl8AYgaxsW"
      },
      "outputs": [],
      "source": [
        "def encode_numerical_feature(feature, name, dataset):\n",
        "\n",
        "    # Create a Normalization layer for our feature\n",
        "    normalizer = tf.keras.layers.Normalization(axis=None)\n",
        "\n",
        "    # Prepare a Dataset that only yields our feature\n",
        "    feature_dataset = dataset.map(lambda x,y: x[feature])\n",
        "    feature_dataset = np.array(list(feature_dataset.as_numpy_iterator()))\n",
        "\n",
        "    # Learn the statistics of the data\n",
        "    normalizer.adapt(feature_dataset)\n",
        "\n",
        "    # Normalize the input feature\n",
        "    encoded_feature = normalizer(feature_dataset)\n",
        "\n",
        "    return encoded_feature"
      ]
    },
    {
      "cell_type": "code",
      "source": [
        "result = encode_numerical_feature('thalach','thalach', train_ds)\n",
        "print(result)"
      ],
      "metadata": {
        "colab": {
          "base_uri": "https://localhost:8080/"
        },
        "id": "DO6eKuHN5xqh",
        "outputId": "44b60469-9a82-4642-cb3e-56d2a580ebf5"
      },
      "execution_count": 61,
      "outputs": [
        {
          "output_type": "stream",
          "name": "stdout",
          "text": [
            "tf.Tensor(\n",
            "[-0.942273   -0.766764    0.46179914  1.1638352   0.15465835  0.33016738\n",
            " -1.6004318   0.1985356   0.6811854   0.5934309   1.3393443   0.54955363\n",
            "  1.295467   -1.7320637  -1.5565546   0.15465835 -1.8636954  -3.355522\n",
            "  1.6903622   0.7689399  -0.02085067  0.46179914 -0.24023694  0.46179914\n",
            " -0.98615026  0.41792187  0.6373082   1.1638352  -0.32799146  0.37404463\n",
            " -1.117782    0.46179914 -1.8636954   0.6811854   0.54955363  0.8566944\n",
            " -0.942273    0.5056764  -0.6790095   0.37404463 -0.72288674  0.9883262\n",
            " -0.06472792  0.37404463  0.6811854  -1.4249228  -0.02085067  0.6811854\n",
            "  0.6373082  -0.06472792 -0.98615026  0.41792187  1.2077124   1.6903622\n",
            "  0.81281716 -1.3810456  -0.6790095  -1.6881863  -0.8983958   0.37404463\n",
            " -0.15248244  0.5934309   1.1199579  -0.32799146 -0.63513225 -0.6790095\n",
            "  0.06690384  0.2862901   0.54955363  0.94444895  0.15465835  0.54955363\n",
            " -1.0739048   1.4270988  -1.0739048   0.9005717   1.1638352  -0.24023694\n",
            " -0.942273    1.5148532   0.1985356  -0.28411418  0.5934309  -2.2147133\n",
            "  1.2077124   1.0760807  -0.28411418  1.0322034  -0.72288674 -0.02085067\n",
            "  0.1985356  -0.02085067 -1.6004318   1.1638352   0.02302659  1.0760807\n",
            "  0.33016738  0.9883262   0.7689399   1.1638352  -1.5565546   0.9005717\n",
            "  0.6373082   0.37404463  0.54955363 -0.6790095   0.15465835  1.5148532\n",
            "  0.54955363 -1.3371683  -0.942273    0.5934309  -0.32799146 -0.3718687\n",
            "  0.6373082   1.3832215  -1.9514499   0.2862901  -1.9514499   1.3393443\n",
            " -0.766764   -0.28411418  0.5056764  -2.3024678   0.94444895 -0.98615026\n",
            "  1.0760807   0.6373082   1.8658713   0.94444895  0.1107811  -0.6790095\n",
            " -0.50350046 -0.19635968 -1.8198181  -1.117782    1.9536258  -0.41574597\n",
            " -0.32799146 -0.72288674 -1.117782   -1.1616592  -1.3810456  -0.8106412\n",
            "  0.5056764   0.5056764   0.6811854  -0.19635968  0.1107811   0.9005717\n",
            "  1.1199579   1.2077124  -1.4688001   0.7689399  -1.0739048   0.9883262\n",
            "  0.9883262   0.1985356   1.3832215  -1.2932911   0.33016738  0.5934309\n",
            " -0.24023694 -0.98615026 -1.2055365   0.9005717  -0.24023694  1.3393443\n",
            "  1.0322034  -0.98615026  0.9005717  -0.10860518 -0.19635968  0.02302659\n",
            " -1.0300275  -0.59125495 -0.72288674  0.02302659  0.72506267  0.1985356\n",
            "  2.0852575   1.0760807  -0.06472792 -1.4249228  -0.15248244  0.1107811\n",
            " -0.98615026  0.9883262  -1.117782    0.1985356  -2.2585907   0.94444895\n",
            "  0.54955363 -1.2055365  -0.10860518 -0.63513225  1.7781168   0.6811854\n",
            " -2.5218542   0.24241287 -0.50350046  0.41792187 -0.24023694 -1.4688001\n",
            "  0.72506267  1.0760807  -0.6790095   0.46179914  1.0322034   0.6373082\n",
            " -0.15248244 -0.85451853  0.6811854  -0.06472792 -1.2055365   0.81281716\n",
            "  0.1107811  -0.02085067 -0.6790095  -1.6881863   1.0760807   0.46179914\n",
            "  1.5148532   0.2862901  -1.4688001  -2.6096087   0.33016738 -0.41574597\n",
            " -0.766764    1.1199579  -0.32799146  0.6373082   2.3923984   0.06690384\n",
            " -0.98615026 -0.45962322 -1.4249228  -0.32799146  0.41792187 -1.8636954\n",
            "  0.6373082  -0.28411418], shape=(242,), dtype=float32)\n"
          ]
        }
      ]
    },
    {
      "cell_type": "code",
      "source": [
        "result = encode_numerical_feature('trestbps','trestbps', train_ds)\n",
        "print(result)"
      ],
      "metadata": {
        "colab": {
          "base_uri": "https://localhost:8080/"
        },
        "id": "DxZ6EsH6rrU0",
        "outputId": "da98bb4a-5f82-49e1-ae8a-1f7e7e92c7b4"
      },
      "execution_count": 62,
      "outputs": [
        {
          "output_type": "stream",
          "name": "stdout",
          "text": [
            "tf.Tensor(\n",
            "[-0.7914619  -0.21817915 -1.2500881  -0.10352261 -0.6768054   0.46976015\n",
            "  0.5844167   0.35510358  0.46976015  0.18311878 -0.6768054  -0.96344674\n",
            " -1.2500881  -1.2500881   1.6163256   1.6163256   0.01113395 -0.6768054\n",
            " -0.5621488   1.0430429   0.5844167  -1.2500881  -0.10352261 -0.6768054\n",
            "  1.6163256   1.0430429   1.6163256   0.35510358 -1.020775   -1.7660426\n",
            "  0.46976015  0.12579049  0.8137298  -0.390164    0.46976015 -1.3647447\n",
            " -1.2500881   2.1896083  -0.10352261  0.35510358 -0.390164   -0.6768054\n",
            "  0.46976015 -0.3328357  -0.6768054  -0.10352261  1.0430429  -0.44749224\n",
            "  0.46976015  2.1896083  -1.1354315   1.0430429  -1.3647447   0.46976015\n",
            "  0.01113395  0.46976015 -1.2500881  -0.10352261  0.18311878 -1.8233708\n",
            " -0.6768054   1.501669   -0.6768054  -0.21817915  3.9094567  -1.1354315\n",
            " -0.10352261 -1.5367295   0.46976015  0.24044704  0.46976015 -0.6768054\n",
            " -1.2500881   0.46976015  0.46976015  0.01113395 -0.7914619  -1.2500881\n",
            " -1.2500881  -0.6768054   0.35510358  0.69907326  0.18311878 -0.10352261\n",
            " -0.44749224 -1.1354315   0.69907326 -0.10352261  1.6163256  -0.6768054\n",
            "  0.35510358 -1.3647447   0.46976015  1.0430429   0.46976015 -1.5367295\n",
            " -0.10352261 -0.21817915  0.46976015 -0.5621488   1.0430429  -1.2500881\n",
            " -0.10352261 -1.3647447   0.5844167   0.18311878 -0.7914619   0.35510358\n",
            " -0.84879017  2.762891    0.69907326  0.92838633 -0.7914619  -0.10352261\n",
            "  0.12579049 -1.1354315  -0.10352261  2.762891   -0.6768054   0.46976015\n",
            " -1.2500881  -0.44749224 -0.21817915 -0.5048205  -0.6768054   0.35510358\n",
            " -0.6768054  -0.6768054  -0.7914619  -0.6768054   0.12579049  0.01113395\n",
            " -0.44749224 -1.1354315   0.35510358 -1.8233708  -0.7914619  -1.1354315\n",
            "  2.1896083  -0.21817915 -0.10352261 -0.6768054  -0.5621488  -0.6768054\n",
            "  0.01113395 -1.2500881   1.6163256   2.4189215  -0.10352261 -1.5367295\n",
            " -0.10352261 -0.10352261 -1.2500881  -0.5621488   0.46976015  0.46976015\n",
            " -0.6768054   0.24044704  0.46976015 -1.2500881   2.1896083  -0.21817915\n",
            " -1.4794012   0.75640154  0.46976015 -0.10352261 -0.10352261  0.46976015\n",
            "  1.0430429  -1.8233708  -0.390164    2.6482346  -1.2500881  -1.5940578\n",
            "  1.902967   -0.3328357  -0.10352261  1.3296843   0.46976015  0.8137298\n",
            "  3.4508305  -0.6768054   0.75640154 -0.6768054   0.46976015  0.75640154\n",
            " -0.390164    0.18311878 -1.7087142  -0.10352261 -0.6768054  -1.3647447\n",
            " -1.7087142  -0.6768054   1.6163256   0.46976015 -0.10352261 -0.10352261\n",
            "  1.8456388   0.46976015  0.01113395 -0.6768054   0.75640154  1.0430429\n",
            "  1.272356   -0.10352261  0.75640154  0.46976015  1.0430429  -0.6768054\n",
            " -0.6768054   1.0430429  -0.16085088 -0.10352261  1.6163256  -0.44749224\n",
            " -0.21817915 -0.10352261 -0.10352261 -0.44749224  0.18311878 -1.2500881\n",
            " -0.6768054   1.0430429   1.0430429   1.1576995   0.46976015  0.46976015\n",
            " -0.21817915  0.01113395 -0.6768054  -0.390164   -0.10352261 -0.7914619\n",
            "  0.24044704  1.0430429  -0.10352261 -0.6768054   0.46976015 -0.21817915\n",
            "  2.304265   -0.390164  ], shape=(242,), dtype=float32)\n"
          ]
        }
      ]
    },
    {
      "cell_type": "code",
      "source": [
        "result = encode_numerical_feature('oldpeak','oldpeak', train_ds)\n",
        "print(result)"
      ],
      "metadata": {
        "colab": {
          "base_uri": "https://localhost:8080/"
        },
        "id": "quOfy2td5jku",
        "outputId": "7245a4ba-106d-4ce4-a6eb-4e17901076a9"
      },
      "execution_count": 63,
      "outputs": [
        {
          "output_type": "stream",
          "name": "stdout",
          "text": [
            "tf.Tensor(\n",
            "[-0.2585769   0.73468673  0.40359885 -0.92075264 -0.5896648   1.6451783\n",
            " -0.92075264 -0.92075264 -0.42412084 -0.5068928  -0.2585769   0.40359885\n",
            " -0.92075264 -0.92075264  1.4796345  -0.2585769   0.8174586  -0.09303298\n",
            " -0.92075264  0.40359885 -0.92075264 -0.92075264  0.072511    0.40359885\n",
            " -0.92075264  1.2313185  -0.5896648   0.23805489  2.721214   -0.92075264\n",
            "  2.5556698  -0.2585769   0.73468673 -0.75520873  0.072511   -0.92075264\n",
            "  1.3968624  -0.75520873  1.0657747  -0.92075264  0.56914276 -0.92075264\n",
            "  0.73468673 -0.92075264 -0.42412084  0.072511    2.0590382  -0.92075264\n",
            " -0.92075264  1.3968624   0.40359885  0.40359885 -0.42412084 -0.92075264\n",
            "  0.072511   -0.01026099  0.072511    1.0657747   1.3968624  -0.8379807\n",
            " -0.2585769  -0.92075264 -0.92075264 -0.92075264  2.390126   -0.8379807\n",
            " -0.5068928  -0.42412084  2.0590382  -0.8379807   0.56914276  0.56914276\n",
            " -0.42412084 -0.92075264 -0.75520873 -0.92075264 -0.92075264  0.072511\n",
            "  0.32082686  2.2245822  -0.92075264  1.8934944   0.23805489  0.072511\n",
            " -0.92075264 -0.92075264  1.8934944  -0.42412084 -0.8379807  -0.5896648\n",
            " -0.75520873 -0.8379807   3.7144775   0.40359885 -0.5896648  -0.92075264\n",
            " -0.92075264 -0.92075264 -0.92075264 -0.92075264 -0.42412084 -0.09303298\n",
            "  0.6519147  -0.92075264  0.23805489 -0.92075264 -0.09303298  0.23805489\n",
            "  0.23805489  1.8934944  -0.17580496 -0.92075264  0.072511   -0.75520873\n",
            " -0.92075264 -0.92075264  0.40359885 -0.92075264  0.23805489  0.23805489\n",
            " -0.92075264 -0.6724368  -0.92075264  0.73468673 -0.92075264  2.0590382\n",
            " -0.75520873 -0.92075264 -0.92075264 -0.92075264  0.6519147   0.072511\n",
            " -0.92075264 -0.8379807   0.6519147  -0.09303298 -0.3413489  -0.92075264\n",
            "  1.8934944   0.9002307   0.73468673 -0.75520873  1.7279503   1.2313185\n",
            " -0.92075264 -0.92075264 -0.92075264 -0.92075264 -0.92075264 -0.92075264\n",
            " -0.92075264 -0.42412084  0.73468673 -0.75520873 -0.75520873  0.072511\n",
            " -0.92075264 -0.92075264 -0.92075264 -0.09303298 -0.42412084 -0.92075264\n",
            " -0.6724368   1.2313185   0.56914276  0.73468673 -0.42412084 -0.92075264\n",
            "  0.32082686 -0.17580496 -0.09303298  2.5556698   1.5624064   1.5624064\n",
            " -0.09303298  0.9002307  -0.42412084 -0.2585769  -0.92075264 -0.92075264\n",
            " -0.92075264 -0.92075264 -0.09303298  0.32082686  2.390126    0.9830026\n",
            "  0.23805489 -0.92075264 -0.42412084  0.072511    0.9002307   0.56914276\n",
            " -0.92075264  1.1485466   4.211109   -0.75520873 -0.92075264 -0.92075264\n",
            " -0.09303298  0.15528288  1.5624064  -0.42412084  1.3968624   1.2313185\n",
            " -0.92075264  0.23805489  0.73468673 -0.92075264 -0.17580496  0.6519147\n",
            "  1.3968624   1.2313185  -0.92075264  0.56914276 -0.92075264 -0.5068928\n",
            " -0.5896648   0.23805489  0.56914276  0.9002307  -0.92075264 -0.42412084\n",
            " -0.92075264  0.23805489 -0.09303298  0.072511    1.5624064   0.6519147\n",
            "  1.5624064   1.7279503  -0.5896648  -0.92075264 -0.92075264 -0.6724368\n",
            "  0.56914276 -0.09303298  0.072511    2.0590382  -0.2585769  -0.75520873\n",
            " -0.5068928   1.3968624 ], shape=(242,), dtype=float32)\n"
          ]
        }
      ]
    },
    {
      "cell_type": "markdown",
      "source": [
        "# Part B"
      ],
      "metadata": {
        "id": "xY9mCVZ8W604"
      }
    },
    {
      "cell_type": "markdown",
      "metadata": {
        "id": "zQlt1xCbaxsX"
      },
      "source": [
        "## Building the model [4 Marks]"
      ]
    },
    {
      "cell_type": "markdown",
      "source": [
        "#### Need to instantiate a Keras tensor for all features\n",
        " Use keras Input() [method](https://keras.io/api/layers/core_layers/input/).\n",
        "* Create a list of inputs to be fed to the model.\n",
        "* This list consists of the features output from keras Input() method.\n",
        "* These inputs include all the features.\n"
      ],
      "metadata": {
        "id": "zBhmQ_q5oLIq"
      }
    },
    {
      "cell_type": "code",
      "source": [
        "# Categorical features encoded as integers\n",
        "## YOUR CODE HERE\n",
        "\n",
        "# Categorical feature encoded as string\n",
        "## YOUR CODE HERE\n",
        "\n",
        "# Numerical features\n",
        "## YOUR CODE HERE\n",
        "\n",
        "all_inputs = [sex, cp, fbs, restecg,exang,ca,thal,age,trestbps,chol,thalach,oldpeak,slope]\n",
        "## These list of inputs objects are fed inside the model as inputs"
      ],
      "metadata": {
        "id": "7DWkHm9-ymp6"
      },
      "execution_count": null,
      "outputs": []
    },
    {
      "cell_type": "markdown",
      "source": [
        "### Encoding above features\n",
        "Use  \"encode_categorical_feature\" & \"encode_numerical_feature\" function on respective features that we defined above."
      ],
      "metadata": {
        "id": "L9QJ4k6tzKcl"
      }
    },
    {
      "cell_type": "code",
      "execution_count": null,
      "metadata": {
        "id": "q3ISoSGRaxsX"
      },
      "outputs": [],
      "source": [
        "# Integer categorical features\n",
        "sex_encoded = ## YOUR CODE HERE\n",
        "cp_encoded = ## YOUR CODE HERE\n",
        "fbs_encoded = ## YOUR CODE HERE\n",
        "restecg_encoded = ## YOUR CODE HERE\n",
        "exang_encoded = ## YOUR CODE HERE\n",
        "ca_encoded = ## YOUR CODE HERE\n",
        "\n",
        "# String categorical features\n",
        "thal_encoded = ## YOUR CODE HERE\n",
        "\n",
        "# Numerical features\n",
        "age_encoded = ## YOUR CODE HERE\n",
        "trestbps_encoded = ## YOUR CODE HERE\n",
        "chol_encoded = ## YOUR CODE HERE\n",
        "thalach_encoded = ## YOUR CODE HERE\n",
        "oldpeak_encoded = ## YOUR CODE HERE\n",
        "slope_encoded = ## YOUR CODE HERE"
      ]
    },
    {
      "cell_type": "markdown",
      "source": [
        "##### Understanding the result of  encoder functions"
      ],
      "metadata": {
        "id": "4GImpVSz8Mh-"
      }
    },
    {
      "cell_type": "code",
      "source": [
        "sex_encoded = ## YOUR CODE HERE\n",
        "sex_encoded"
      ],
      "metadata": {
        "id": "7agE0k6X7TIo"
      },
      "execution_count": null,
      "outputs": []
    },
    {
      "cell_type": "code",
      "source": [
        "cp_encoded = ## YOUR CODE HERE\n",
        "cp_encoded"
      ],
      "metadata": {
        "id": "N-Lr3-9W7-EU"
      },
      "execution_count": null,
      "outputs": []
    },
    {
      "cell_type": "markdown",
      "source": [
        "### Using Functional API for building model\n",
        "Build the three model architectures with 1, 2, and 3 hidden layers having different numbers of neurons. Train for each architecture and compare the train and the validation accuracy.\n",
        "\n",
        "* These inputs will be passed to keras.model.\n",
        "* Concatenate the encoded features using layers.concatenate()\n",
        "* Add the Dense layers and compile the model."
      ],
      "metadata": {
        "id": "XgCGkr5Y1CqB"
      }
    },
    {
      "cell_type": "code",
      "source": [
        "all_inputs = [sex, cp, fbs, restecg,exang,ca,thal,age,trestbps,chol,thalach,oldpeak,slope]\n",
        "\n",
        "all_features = layers.concatenate## YOUR CODE HERE\n",
        "\n",
        "## In Functional API for creating a Neural Network model.\n",
        "## Different layers are connected as layers.method(previous layer object)\n",
        "## For eg: x = layers.Dense(32, activation=\"relu\")(all_features), similarly\n",
        "## layers.concatenate is connected to Input or Initialization of keras tensors.\n",
        "## layers.concatenate([encoded_feature_object1, encoded_feature_object2, .....]), where\n",
        "## encoded_feature_objects contains the return values from encode_categorical and encode_numerical features.\n",
        "\n",
        "## YOUR CODE HERE     # Dense Layer\n",
        "## YOUR CODE HERE     # Dropout\n",
        "output = ## YOUR CODE HERE\n",
        "model = keras.Model## YOUR CODE HERE\n",
        "model.compile## YOUR CODE HERE"
      ],
      "metadata": {
        "id": "WEDvPj0o1GJR"
      },
      "execution_count": null,
      "outputs": []
    },
    {
      "cell_type": "markdown",
      "metadata": {
        "id": "6n8nNJl8axsX"
      },
      "source": [
        "### Visualize the connectivity graph using `keras.utils.plot_model`:"
      ]
    },
    {
      "cell_type": "code",
      "execution_count": null,
      "metadata": {
        "id": "HHIJkQVTaxsX"
      },
      "outputs": [],
      "source": [
        "# `rankdir='LR'` is to make the graph horizontal.\n",
        "## YOUR CODE HERE"
      ]
    },
    {
      "cell_type": "markdown",
      "metadata": {
        "id": "5vnGOiMuaxsX"
      },
      "source": [
        "### Train the model\n",
        "\n",
        "(Change the Colab notebook's runtime to GPU for faster training)"
      ]
    },
    {
      "cell_type": "code",
      "execution_count": null,
      "metadata": {
        "id": "GflUtJDTaxsX"
      },
      "outputs": [],
      "source": [
        "## YOUR CODE HERE"
      ]
    },
    {
      "cell_type": "markdown",
      "metadata": {
        "id": "ZDrBzU1jaxsY"
      },
      "source": [
        "## Inference on new data [1 Mark]\n",
        "\n",
        "To get a prediction for a new sample, you can simply call `model.predict()`. There are\n",
        "just two things you need to do:\n",
        "\n",
        "1. wrap scalars into a list so as to have a batch dimension (models only process batches\n",
        "of data, not single samples)\n",
        "2. Call `convert_to_tensor` on each feature\n",
        "\n",
        "Note : The predicted output should be either 0  or 1 based on a threshold value of probability 0.5."
      ]
    },
    {
      "cell_type": "code",
      "execution_count": null,
      "metadata": {
        "id": "9OHghLcbaxsY"
      },
      "outputs": [],
      "source": [
        "## YOUR CODE HERE\n",
        "\n",
        "input_dict = {name: tf.convert_to_tensor([value]) for name, value in sample.items()}\n",
        "predictions = model.predict(input_dict)\n",
        "\n",
        "## YOUR CODE HERE"
      ]
    }
  ],
  "metadata": {
    "colab": {
      "provenance": [],
      "include_colab_link": true
    },
    "kernelspec": {
      "display_name": "Python 3",
      "name": "python3"
    },
    "language_info": {
      "codemirror_mode": {
        "name": "ipython",
        "version": 3
      },
      "file_extension": ".py",
      "mimetype": "text/x-python",
      "name": "python",
      "nbconvert_exporter": "python",
      "pygments_lexer": "ipython3",
      "version": "3.7.0"
    }
  },
  "nbformat": 4,
  "nbformat_minor": 0
}